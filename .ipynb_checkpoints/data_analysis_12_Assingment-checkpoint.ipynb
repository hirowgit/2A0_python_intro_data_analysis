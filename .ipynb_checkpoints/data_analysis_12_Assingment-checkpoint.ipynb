{
 "cells": [
  {
   "cell_type": "markdown",
   "metadata": {
    "id": "qYFksbFAYbKl"
   },
   "source": [
    "# データ分析入門"
   ]
  },
  {
   "cell_type": "markdown",
   "metadata": {
    "id": "moLKePWqYfwS"
   },
   "source": [
    "## 第8章 区間推定 #10\n"
   ]
  },
  {
   "cell_type": "markdown",
   "metadata": {
    "id": "vE0IVMbdYlzt"
   },
   "source": [
    "### パッケージ読み込み"
   ]
  },
  {
   "cell_type": "code",
   "execution_count": 1,
   "metadata": {
    "colab": {
     "base_uri": "https://localhost:8080/"
    },
    "id": "bh89DFF2Ylj2",
    "outputId": "c45d373f-bcef-420d-ae06-987132fe9f2a"
   },
   "outputs": [],
   "source": [
    "# !pip install japanize_matplotlib\n",
    "# !pip install sympy\n",
    "\n",
    "%matplotlib inline\n",
    "import japanize_matplotlib\n",
    "from matplotlib import pyplot as plt\n",
    "\n",
    "from pathlib import Path\n",
    "import numpy as np\n",
    "import numpy.matlib\n",
    "import os\n",
    "import sys\n",
    "import codecs\n",
    "import math\n",
    "import matplotlib.pyplot as plt\n",
    "import pandas as pd\n",
    "from openpyxl import Workbook\n",
    "import pprint\n",
    "import datetime\n",
    "\n",
    "import sympy as sym\n"
   ]
  },
  {
   "cell_type": "markdown",
   "metadata": {
    "id": "GfidQD4lZhAc"
   },
   "source": [
    "### 表データの読み込み（スポーツチームA: 第１章 表1.1）"
   ]
  },
  {
   "cell_type": "code",
   "execution_count": 2,
   "metadata": {},
   "outputs": [
    {
     "data": {
      "text/html": [
       "<div>\n",
       "<style scoped>\n",
       "    .dataframe tbody tr th:only-of-type {\n",
       "        vertical-align: middle;\n",
       "    }\n",
       "\n",
       "    .dataframe tbody tr th {\n",
       "        vertical-align: top;\n",
       "    }\n",
       "\n",
       "    .dataframe thead th {\n",
       "        text-align: right;\n",
       "    }\n",
       "</style>\n",
       "<table border=\"1\" class=\"dataframe\">\n",
       "  <thead>\n",
       "    <tr style=\"text-align: right;\">\n",
       "      <th></th>\n",
       "      <th>x</th>\n",
       "      <th>y</th>\n",
       "      <th>z</th>\n",
       "    </tr>\n",
       "    <tr>\n",
       "      <th>No.</th>\n",
       "      <th></th>\n",
       "      <th></th>\n",
       "      <th></th>\n",
       "    </tr>\n",
       "  </thead>\n",
       "  <tbody>\n",
       "    <tr>\n",
       "      <th>1</th>\n",
       "      <td>178</td>\n",
       "      <td>100</td>\n",
       "      <td>33</td>\n",
       "    </tr>\n",
       "    <tr>\n",
       "      <th>2</th>\n",
       "      <td>185</td>\n",
       "      <td>90</td>\n",
       "      <td>22</td>\n",
       "    </tr>\n",
       "    <tr>\n",
       "      <th>3</th>\n",
       "      <td>190</td>\n",
       "      <td>90</td>\n",
       "      <td>29</td>\n",
       "    </tr>\n",
       "    <tr>\n",
       "      <th>4</th>\n",
       "      <td>175</td>\n",
       "      <td>79</td>\n",
       "      <td>27</td>\n",
       "    </tr>\n",
       "    <tr>\n",
       "      <th>5</th>\n",
       "      <td>185</td>\n",
       "      <td>81</td>\n",
       "      <td>29</td>\n",
       "    </tr>\n",
       "    <tr>\n",
       "      <th>...</th>\n",
       "      <td>...</td>\n",
       "      <td>...</td>\n",
       "      <td>...</td>\n",
       "    </tr>\n",
       "    <tr>\n",
       "      <th>75</th>\n",
       "      <td>171</td>\n",
       "      <td>75</td>\n",
       "      <td>26</td>\n",
       "    </tr>\n",
       "    <tr>\n",
       "      <th>76</th>\n",
       "      <td>176</td>\n",
       "      <td>78</td>\n",
       "      <td>24</td>\n",
       "    </tr>\n",
       "    <tr>\n",
       "      <th>77</th>\n",
       "      <td>185</td>\n",
       "      <td>85</td>\n",
       "      <td>33</td>\n",
       "    </tr>\n",
       "    <tr>\n",
       "      <th>78</th>\n",
       "      <td>179</td>\n",
       "      <td>80</td>\n",
       "      <td>30</td>\n",
       "    </tr>\n",
       "    <tr>\n",
       "      <th>79</th>\n",
       "      <td>180</td>\n",
       "      <td>96</td>\n",
       "      <td>23</td>\n",
       "    </tr>\n",
       "  </tbody>\n",
       "</table>\n",
       "<p>79 rows × 3 columns</p>\n",
       "</div>"
      ],
      "text/plain": [
       "       x    y   z\n",
       "No.              \n",
       "1    178  100  33\n",
       "2    185   90  22\n",
       "3    190   90  29\n",
       "4    175   79  27\n",
       "5    185   81  29\n",
       "..   ...  ...  ..\n",
       "75   171   75  26\n",
       "76   176   78  24\n",
       "77   185   85  33\n",
       "78   179   80  30\n",
       "79   180   96  23\n",
       "\n",
       "[79 rows x 3 columns]"
      ]
     },
     "execution_count": 2,
     "metadata": {},
     "output_type": "execute_result"
    }
   ],
   "source": [
    "df1_1 = pd.read_excel('Table1_1.xlsx', index_col=0)\n",
    "df1_1=df1_1.iloc[:79,:]\n",
    "df1_1"
   ]
  },
  {
   "cell_type": "code",
   "execution_count": 3,
   "metadata": {},
   "outputs": [
    {
     "data": {
      "text/html": [
       "<div>\n",
       "<style scoped>\n",
       "    .dataframe tbody tr th:only-of-type {\n",
       "        vertical-align: middle;\n",
       "    }\n",
       "\n",
       "    .dataframe tbody tr th {\n",
       "        vertical-align: top;\n",
       "    }\n",
       "\n",
       "    .dataframe thead th {\n",
       "        text-align: right;\n",
       "    }\n",
       "</style>\n",
       "<table border=\"1\" class=\"dataframe\">\n",
       "  <thead>\n",
       "    <tr style=\"text-align: right;\">\n",
       "      <th></th>\n",
       "      <th>性別</th>\n",
       "      <th>出身県</th>\n",
       "      <th>資格の級</th>\n",
       "    </tr>\n",
       "    <tr>\n",
       "      <th>番号</th>\n",
       "      <th></th>\n",
       "      <th></th>\n",
       "      <th></th>\n",
       "    </tr>\n",
       "  </thead>\n",
       "  <tbody>\n",
       "    <tr>\n",
       "      <th>1</th>\n",
       "      <td>0</td>\n",
       "      <td>5</td>\n",
       "      <td>2</td>\n",
       "    </tr>\n",
       "    <tr>\n",
       "      <th>2</th>\n",
       "      <td>1</td>\n",
       "      <td>3</td>\n",
       "      <td>4</td>\n",
       "    </tr>\n",
       "    <tr>\n",
       "      <th>3</th>\n",
       "      <td>1</td>\n",
       "      <td>8</td>\n",
       "      <td>2</td>\n",
       "    </tr>\n",
       "    <tr>\n",
       "      <th>4</th>\n",
       "      <td>0</td>\n",
       "      <td>14</td>\n",
       "      <td>5</td>\n",
       "    </tr>\n",
       "    <tr>\n",
       "      <th>5</th>\n",
       "      <td>1</td>\n",
       "      <td>26</td>\n",
       "      <td>1</td>\n",
       "    </tr>\n",
       "    <tr>\n",
       "      <th>6</th>\n",
       "      <td>0</td>\n",
       "      <td>5</td>\n",
       "      <td>3</td>\n",
       "    </tr>\n",
       "    <tr>\n",
       "      <th>7</th>\n",
       "      <td>1</td>\n",
       "      <td>17</td>\n",
       "      <td>1</td>\n",
       "    </tr>\n",
       "    <tr>\n",
       "      <th>8</th>\n",
       "      <td>1</td>\n",
       "      <td>32</td>\n",
       "      <td>2</td>\n",
       "    </tr>\n",
       "    <tr>\n",
       "      <th>9</th>\n",
       "      <td>0</td>\n",
       "      <td>4</td>\n",
       "      <td>4</td>\n",
       "    </tr>\n",
       "    <tr>\n",
       "      <th>10</th>\n",
       "      <td>1</td>\n",
       "      <td>5</td>\n",
       "      <td>3</td>\n",
       "    </tr>\n",
       "  </tbody>\n",
       "</table>\n",
       "</div>"
      ],
      "text/plain": [
       "    性別  出身県  資格の級\n",
       "番号               \n",
       "1    0    5     2\n",
       "2    1    3     4\n",
       "3    1    8     2\n",
       "4    0   14     5\n",
       "5    1   26     1\n",
       "6    0    5     3\n",
       "7    1   17     1\n",
       "8    1   32     2\n",
       "9    0    4     4\n",
       "10   1    5     3"
      ]
     },
     "execution_count": 3,
     "metadata": {},
     "output_type": "execute_result"
    }
   ],
   "source": [
    "df1_2 = pd.read_excel('Table1_2.xlsx', index_col=0)\n",
    "df1_2"
   ]
  },
  {
   "cell_type": "markdown",
   "metadata": {},
   "source": [
    "### 問題10.1"
   ]
  },
  {
   "cell_type": "code",
   "execution_count": 4,
   "metadata": {},
   "outputs": [
    {
     "data": {
      "image/png": "[encoded data removed]",
      "text/plain": [
       "<Figure size 432x288 with 1 Axes>"
      ]
     },
     "metadata": {
      "needs_background": "light"
     },
     "output_type": "display_data"
    }
   ],
   "source": [
    "plt.scatter(df1_1.iloc[:,0], df1_1.iloc[:,1])\n",
    "plt.grid()\n",
    "plt.show()"
   ]
  },
  {
   "cell_type": "code",
   "execution_count": 5,
   "metadata": {},
   "outputs": [
    {
     "data": {
      "image/png": "[encoded data removed]",
      "text/plain": [
       "<Figure size 432x288 with 1 Axes>"
      ]
     },
     "metadata": {
      "needs_background": "light"
     },
     "output_type": "display_data"
    }
   ],
   "source": [
    "plt.scatter(df1_1.iloc[:,2], df1_1.iloc[:,0])\n",
    "plt.grid()\n",
    "plt.show()"
   ]
  },
  {
   "cell_type": "code",
   "execution_count": 6,
   "metadata": {},
   "outputs": [
    {
     "data": {
      "image/png": "[encoded data removed]",
      "text/plain": [
       "<Figure size 432x288 with 1 Axes>"
      ]
     },
     "metadata": {
      "needs_background": "light"
     },
     "output_type": "display_data"
    }
   ],
   "source": [
    "plt.scatter(df1_1['x'].tolist(), df1_1['y'].tolist())\n",
    "plt.grid()\n",
    "plt.show()"
   ]
  },
  {
   "cell_type": "code",
   "execution_count": 7,
   "metadata": {},
   "outputs": [
    {
     "data": {
      "text/plain": [
       "[178,\n",
       " 185,\n",
       " 190,\n",
       " 175,\n",
       " 185,\n",
       " 196,\n",
       " 188,\n",
       " 186,\n",
       " 188,\n",
       " 182,\n",
       " 180,\n",
       " 176,\n",
       " 186,\n",
       " 178,\n",
       " 177,\n",
       " 180,\n",
       " 187,\n",
       " 175,\n",
       " 177,\n",
       " 193,\n",
       " 186,\n",
       " 174,\n",
       " 178,\n",
       " 177,\n",
       " 175,\n",
       " 182,\n",
       " 183,\n",
       " 179,\n",
       " 173,\n",
       " 182,\n",
       " 180,\n",
       " 178,\n",
       " 178,\n",
       " 168,\n",
       " 189,\n",
       " 174,\n",
       " 172,\n",
       " 184,\n",
       " 185,\n",
       " 173,\n",
       " 172,\n",
       " 183,\n",
       " 190,\n",
       " 183,\n",
       " 180,\n",
       " 175,\n",
       " 172,\n",
       " 182,\n",
       " 185,\n",
       " 174,\n",
       " 178,\n",
       " 178,\n",
       " 180,\n",
       " 178,\n",
       " 180,\n",
       " 180,\n",
       " 181,\n",
       " 173,\n",
       " 177,\n",
       " 181,\n",
       " 173,\n",
       " 180,\n",
       " 183,\n",
       " 180,\n",
       " 175,\n",
       " 185,\n",
       " 185,\n",
       " 175,\n",
       " 178,\n",
       " 178,\n",
       " 172,\n",
       " 178,\n",
       " 177,\n",
       " 174,\n",
       " 171,\n",
       " 176,\n",
       " 185,\n",
       " 179,\n",
       " 180]"
      ]
     },
     "execution_count": 7,
     "metadata": {},
     "output_type": "execute_result"
    }
   ],
   "source": [
    "df1_1['x'].tolist()"
   ]
  },
  {
   "cell_type": "code",
   "execution_count": 8,
   "metadata": {},
   "outputs": [
    {
     "data": {
      "image/png": "[encoded data removed]",
      "text/plain": [
       "<Figure size 432x288 with 1 Axes>"
      ]
     },
     "metadata": {
      "needs_background": "light"
     },
     "output_type": "display_data"
    }
   ],
   "source": [
    "plt.scatter(df1_1['z'].to_numpy(), df1_1['x'].to_numpy())\n",
    "plt.grid()\n",
    "plt.show()"
   ]
  },
  {
   "cell_type": "code",
   "execution_count": 9,
   "metadata": {},
   "outputs": [
    {
     "data": {
      "text/plain": [
       "'平均'"
      ]
     },
     "metadata": {},
     "output_type": "display_data"
    },
    {
     "data": {
      "text/plain": [
       "179.72151898734177"
      ]
     },
     "metadata": {},
     "output_type": "display_data"
    },
    {
     "data": {
      "text/plain": [
       "82.75949367088607"
      ]
     },
     "metadata": {},
     "output_type": "display_data"
    },
    {
     "data": {
      "text/plain": [
       "26.0126582278481"
      ]
     },
     "metadata": {},
     "output_type": "display_data"
    },
    {
     "data": {
      "text/plain": [
       "'分散'"
      ]
     },
     "metadata": {},
     "output_type": "display_data"
    },
    {
     "data": {
      "text/plain": [
       "29.416119211664796"
      ]
     },
     "metadata": {},
     "output_type": "display_data"
    },
    {
     "data": {
      "text/plain": [
       "29.793248945147678"
      ]
     },
     "metadata": {},
     "output_type": "display_data"
    },
    {
     "data": {
      "text/plain": [
       "72.3092453132511"
      ]
     },
     "metadata": {},
     "output_type": "display_data"
    },
    {
     "data": {
      "text/plain": [
       "73.23628691983124"
      ]
     },
     "metadata": {},
     "output_type": "display_data"
    },
    {
     "data": {
      "text/plain": [
       "24.34161192116648"
      ]
     },
     "metadata": {},
     "output_type": "display_data"
    },
    {
     "data": {
      "text/plain": [
       "24.65368386887374"
      ]
     },
     "metadata": {},
     "output_type": "display_data"
    }
   ],
   "source": [
    "xd=df1_1['x'].to_numpy()\n",
    "yd=df1_1['y'].to_numpy()\n",
    "zd=df1_1['z'].to_numpy()\n",
    "\n",
    "mu_x=np.mean(xd)\n",
    "mu_y=np.mean(yd)\n",
    "mu_z=np.mean(zd)\n",
    "display('平均')\n",
    "display(mu_x)\n",
    "display(mu_y)\n",
    "display(mu_z)\n",
    "\n",
    "var_x0=xd.var(ddof=0) # 標本分散を求める\n",
    "var_x1=xd.var(ddof=1) #不偏分散を求める\n",
    "\n",
    "var_y0=yd.var(ddof=0)\n",
    "var_y1=yd.var(ddof=1)\n",
    "\n",
    "var_z0=zd.var(ddof=0)\n",
    "var_z1=zd.var(ddof=1)\n",
    "\n",
    "display('分散')\n",
    "display(var_x0)\n",
    "display(var_x1)\n",
    "\n",
    "display(var_y0)\n",
    "display(var_y1)\n",
    "\n",
    "display(var_z0)\n",
    "display(var_z1)\n",
    "\n"
   ]
  },
  {
   "cell_type": "code",
   "execution_count": 10,
   "metadata": {},
   "outputs": [],
   "source": [
    "xd_std=(xd-mu_x)/np.sqrt(var_x0)\n",
    "yd_std=(yd-mu_y)/np.sqrt(var_y0)\n",
    "zd_std=(zd-mu_z)/np.sqrt(var_z0)\n",
    "\n",
    "\n",
    "xd_std_m=np.mean(xd_std)\n",
    "yd_std_m=np.mean(yd_std)\n",
    "zd_std_m=np.mean(zd_std)"
   ]
  },
  {
   "cell_type": "code",
   "execution_count": 11,
   "metadata": {},
   "outputs": [
    {
     "data": {
      "image/png": "[encoded data removed]",
      "text/plain": [
       "<Figure size 432x288 with 1 Axes>"
      ]
     },
     "metadata": {
      "needs_background": "light"
     },
     "output_type": "display_data"
    }
   ],
   "source": [
    "plt.scatter(zd_std, xd_std)\n",
    "plt.grid()\n",
    "plt.axis('equal')\n",
    "# plt.xlim([-3.5, 3.5])\n",
    "# plt.ylim([-3.5, 3.5])\n",
    "plt.xlim([-3, 3])\n",
    "plt.ylim([-3, 3])\n",
    "plt.show()"
   ]
  },
  {
   "cell_type": "code",
   "execution_count": 12,
   "metadata": {},
   "outputs": [
    {
     "data": {
      "image/png": "[encoded data removed]",
      "text/plain": [
       "<Figure size 432x288 with 1 Axes>"
      ]
     },
     "metadata": {
      "needs_background": "light"
     },
     "output_type": "display_data"
    }
   ],
   "source": [
    "plt.scatter(zd_std, xd_std)\n",
    "plt.grid()\n",
    "plt.axis('equal')\n",
    "plt.show()"
   ]
  },
  {
   "cell_type": "code",
   "execution_count": 13,
   "metadata": {},
   "outputs": [
    {
     "data": {
      "image/png": "[encoded data removed]",
      "text/plain": [
       "<Figure size 432x288 with 1 Axes>"
      ]
     },
     "metadata": {
      "needs_background": "light"
     },
     "output_type": "display_data"
    }
   ],
   "source": [
    "plt.scatter(df1_1['z'].to_numpy(), df1_1['x'].to_numpy())\n",
    "plt.grid()\n",
    "plt.show()"
   ]
  },
  {
   "cell_type": "code",
   "execution_count": 14,
   "metadata": {},
   "outputs": [],
   "source": [
    "xd_std=(xd-mu_x)/np.sqrt(var_x0)\n",
    "yd_std=(yd-mu_y)/np.sqrt(var_y0)\n",
    "zd_std=(zd-mu_z)/np.sqrt(var_z0)\n",
    "\n",
    "\n",
    "xd_std_m=np.mean(xd_std)\n",
    "yd_std_m=np.mean(yd_std)\n",
    "zd_std_m=np.mean(zd_std)"
   ]
  },
  {
   "cell_type": "code",
   "execution_count": 15,
   "metadata": {},
   "outputs": [
    {
     "data": {
      "image/png": "[encoded data removed]",
      "text/plain": [
       "<Figure size 432x288 with 1 Axes>"
      ]
     },
     "metadata": {
      "needs_background": "light"
     },
     "output_type": "display_data"
    }
   ],
   "source": [
    "plt.scatter(xd_std, yd_std)\n",
    "plt.grid()\n",
    "plt.axis('equal')\n",
    "# plt.xlim([-3.5, 3.5])\n",
    "# plt.ylim([-3.5, 3.5])\n",
    "plt.xlim([-3, 3])\n",
    "plt.ylim([-3, 3])\n",
    "plt.show()"
   ]
  },
  {
   "cell_type": "code",
   "execution_count": 16,
   "metadata": {},
   "outputs": [
    {
     "data": {
      "text/plain": [
       "array([-6.43535087e-01,  8.28682749e-01,  1.61364603e+00,  3.84876590e-01,\n",
       "       -2.01375703e-01,  8.20294614e+00,  3.09464667e+00,  5.77274931e-01,\n",
       "        2.22669143e-01, -2.84537896e-01, -4.58595877e-03,  6.12850854e-02,\n",
       "        3.05007949e-01, -1.95611987e-01,  3.39864709e-01, -3.47768540e-02,\n",
       "        3.98335684e+00,  1.51099698e+00,  2.80855232e-01,  6.40329432e+00,\n",
       "        1.80247635e+00,  5.90449140e-01, -8.36312117e-02,  1.03826801e-01,\n",
       "        1.80127427e-01,  1.60091652e-01, -1.96160912e-01, -1.60206301e-01,\n",
       "        1.27660585e+00,  6.12850854e-02,  3.76812945e-02,  1.03003413e-01,\n",
       "       -8.36312117e-02,  3.49700896e+00,  1.45665337e+00,  1.08667767e+00,\n",
       "        1.80137850e+00, -8.12604100e-01,  5.99780871e-01,  1.56808522e+00,\n",
       "        1.29911179e+00, -3.38332582e-01,  2.76463830e-01,  1.70965933e-02,\n",
       "       -1.66623169e-02,  5.89625752e-01, -2.21675519e+00,  3.57704784e-01,\n",
       "        1.05758463e+00,  4.66392007e-01,  2.83495633e-02, -8.97736171e-03,\n",
       "       -5.89295702e-02,  2.52311113e-01,  6.18340107e-02, -5.28913911e-02,\n",
       "        6.21084734e-02,  1.13086616e+00, -1.91220584e-01, -2.15098837e-01,\n",
       "        1.42234553e+00, -2.27004959e-02,  1.59268264e-01, -4.68532121e-02,\n",
       "        7.94374914e-01,  2.56428054e-01,  3.70878993e-01,  9.99124076e-01,\n",
       "        3.64291888e-01, -8.36312117e-02,  2.13622298e+00, -1.58285062e-01,\n",
       "       -1.32211107e-01,  9.42206074e-02,  1.46735741e+00,  3.84053202e-01,\n",
       "        2.56428054e-01,  4.31705482e-02,  7.99485479e-02])"
      ]
     },
     "execution_count": 16,
     "metadata": {},
     "output_type": "execute_result"
    }
   ],
   "source": [
    "(xd_std-xd_std_m)*(yd_std-yd_std_m)"
   ]
  },
  {
   "cell_type": "code",
   "execution_count": 17,
   "metadata": {},
   "outputs": [
    {
     "data": {
      "text/plain": [
       "79"
      ]
     },
     "execution_count": 17,
     "metadata": {},
     "output_type": "execute_result"
    }
   ],
   "source": [
    "len(xd_std)"
   ]
  },
  {
   "cell_type": "code",
   "execution_count": 18,
   "metadata": {},
   "outputs": [
    {
     "data": {
      "text/plain": [
       "0.6369479824166495"
      ]
     },
     "execution_count": 18,
     "metadata": {},
     "output_type": "execute_result"
    }
   ],
   "source": [
    "np.sum((xd_std-xd_std_m)*(yd_std-yd_std_m))/len(xd_std)"
   ]
  },
  {
   "cell_type": "code",
   "execution_count": 19,
   "metadata": {},
   "outputs": [
    {
     "data": {
      "text/plain": [
       "array([[0., 0.],\n",
       "       [0., 0.],\n",
       "       [0., 0.]])"
      ]
     },
     "execution_count": 19,
     "metadata": {},
     "output_type": "execute_result"
    }
   ],
   "source": [
    "dN=np.shape(df1_1)[1]\n",
    "rowN=int(dN*(dN-1)/2)\n",
    "colN=2\n",
    "table10_5=np.full((rowN,colN),0.0)\n",
    "\n",
    "table10_5"
   ]
  },
  {
   "cell_type": "code",
   "execution_count": 20,
   "metadata": {},
   "outputs": [],
   "source": [
    "columnsName=['共分散', '相関係数']\n",
    "indexName=['身長と体重', '年齢と身長', '年齢と体重']"
   ]
  },
  {
   "cell_type": "code",
   "execution_count": 21,
   "metadata": {},
   "outputs": [
    {
     "data": {
      "text/plain": [
       "array([[ 2.93760615e+01,  6.36947982e-01],\n",
       "       [-2.70533568e+00, -1.01100617e-01],\n",
       "       [-7.31132831e-01, -1.74270832e-02]])"
      ]
     },
     "execution_count": 21,
     "metadata": {},
     "output_type": "execute_result"
    }
   ],
   "source": [
    "table10_5[0,0]=np.sum((xd-mu_x)*(yd-mu_y))/len(xd_std)\n",
    "table10_5[1,0]=np.sum((zd-mu_z)*(xd-mu_x))/len(xd_std)\n",
    "table10_5[2,0]=np.sum((zd-mu_z)*(yd-mu_y))/len(xd_std)\n",
    "\n",
    "table10_5[0,1]=np.sum((xd_std-xd_std_m)*(yd_std-yd_std_m))/len(xd_std)\n",
    "table10_5[1,1]=np.sum((zd_std-zd_std_m)*(xd_std-xd_std_m))/len(xd_std)\n",
    "table10_5[2,1]=np.sum((zd_std-zd_std_m)*(yd_std-yd_std_m))/len(xd_std)\n",
    "table10_5"
   ]
  },
  {
   "cell_type": "code",
   "execution_count": 22,
   "metadata": {},
   "outputs": [
    {
     "data": {
      "text/html": [
       "<div>\n",
       "<style scoped>\n",
       "    .dataframe tbody tr th:only-of-type {\n",
       "        vertical-align: middle;\n",
       "    }\n",
       "\n",
       "    .dataframe tbody tr th {\n",
       "        vertical-align: top;\n",
       "    }\n",
       "\n",
       "    .dataframe thead th {\n",
       "        text-align: right;\n",
       "    }\n",
       "</style>\n",
       "<table border=\"1\" class=\"dataframe\">\n",
       "  <thead>\n",
       "    <tr style=\"text-align: right;\">\n",
       "      <th></th>\n",
       "      <th>共分散</th>\n",
       "      <th>相関係数</th>\n",
       "    </tr>\n",
       "  </thead>\n",
       "  <tbody>\n",
       "    <tr>\n",
       "      <th>身長と体重</th>\n",
       "      <td>29.376062</td>\n",
       "      <td>0.636948</td>\n",
       "    </tr>\n",
       "    <tr>\n",
       "      <th>年齢と身長</th>\n",
       "      <td>-2.705336</td>\n",
       "      <td>-0.101101</td>\n",
       "    </tr>\n",
       "    <tr>\n",
       "      <th>年齢と体重</th>\n",
       "      <td>-0.731133</td>\n",
       "      <td>-0.017427</td>\n",
       "    </tr>\n",
       "  </tbody>\n",
       "</table>\n",
       "</div>"
      ],
      "text/plain": [
       "             共分散      相関係数\n",
       "身長と体重  29.376062  0.636948\n",
       "年齢と身長  -2.705336 -0.101101\n",
       "年齢と体重  -0.731133 -0.017427"
      ]
     },
     "execution_count": 22,
     "metadata": {},
     "output_type": "execute_result"
    }
   ],
   "source": [
    "df10_5 = pd.DataFrame(table10_5,\n",
    "                  columns=columnsName,\n",
    "                  index=indexName)\n",
    "df10_5"
   ]
  },
  {
   "cell_type": "code",
   "execution_count": 23,
   "metadata": {},
   "outputs": [
    {
     "data": {
      "text/plain": [
       "array([[2.52820473e-314],\n",
       "       [2.52820497e-314],\n",
       "       [2.52820459e-314]])"
      ]
     },
     "execution_count": 23,
     "metadata": {},
     "output_type": "execute_result"
    }
   ],
   "source": [
    "dataD1=np.empty((3,1))\n",
    "dataD1"
   ]
  },
  {
   "cell_type": "code",
   "execution_count": 24,
   "metadata": {},
   "outputs": [
    {
     "data": {
      "text/plain": [
       "array([[29.37606153],\n",
       "       [-2.70533568],\n",
       "       [-0.73113283]])"
      ]
     },
     "metadata": {},
     "output_type": "display_data"
    },
    {
     "data": {
      "text/plain": [
       "array([[ 0.63694798],\n",
       "       [-0.10110062],\n",
       "       [-0.01742708]])"
      ]
     },
     "metadata": {},
     "output_type": "display_data"
    },
    {
     "data": {
      "text/html": [
       "<div>\n",
       "<style scoped>\n",
       "    .dataframe tbody tr th:only-of-type {\n",
       "        vertical-align: middle;\n",
       "    }\n",
       "\n",
       "    .dataframe tbody tr th {\n",
       "        vertical-align: top;\n",
       "    }\n",
       "\n",
       "    .dataframe thead th {\n",
       "        text-align: right;\n",
       "    }\n",
       "</style>\n",
       "<table border=\"1\" class=\"dataframe\">\n",
       "  <thead>\n",
       "    <tr style=\"text-align: right;\">\n",
       "      <th></th>\n",
       "      <th>共分散</th>\n",
       "      <th>相関係数</th>\n",
       "    </tr>\n",
       "  </thead>\n",
       "  <tbody>\n",
       "    <tr>\n",
       "      <th>身長と体重</th>\n",
       "      <td>29.38</td>\n",
       "      <td>0.637</td>\n",
       "    </tr>\n",
       "    <tr>\n",
       "      <th>年齢と身長</th>\n",
       "      <td>-2.71</td>\n",
       "      <td>-0.101</td>\n",
       "    </tr>\n",
       "    <tr>\n",
       "      <th>年齢と体重</th>\n",
       "      <td>-0.73</td>\n",
       "      <td>-0.017</td>\n",
       "    </tr>\n",
       "  </tbody>\n",
       "</table>\n",
       "</div>"
      ],
      "text/plain": [
       "         共分散   相関係数\n",
       "身長と体重  29.38  0.637\n",
       "年齢と身長  -2.71 -0.101\n",
       "年齢と体重  -0.73 -0.017"
      ]
     },
     "execution_count": 24,
     "metadata": {},
     "output_type": "execute_result"
    }
   ],
   "source": [
    "df10_5b = pd.DataFrame(np.zeros((3,2)),\n",
    "                  columns=columnsName,\n",
    "                  index=indexName)\n",
    "\n",
    "dataD1=np.empty((3,1))\n",
    "dataD1[0,0]=np.sum((xd-mu_x)*(yd-mu_y))/len(xd_std)\n",
    "dataD1[1,0]=np.sum((zd-mu_z)*(xd-mu_x))/len(xd_std)\n",
    "dataD1[2,0]=np.sum((zd-mu_z)*(yd-mu_y))/len(xd_std)\n",
    "display(dataD1)\n",
    "\n",
    "dataD2=np.empty((3,1))\n",
    "dataD2[0,0]=np.sum((xd_std-xd_std_m)*(yd_std-yd_std_m))/len(xd_std)\n",
    "dataD2[1,0]=np.sum((zd_std-zd_std_m)*(xd_std-xd_std_m))/len(xd_std)\n",
    "dataD2[2,0]=np.sum((zd_std-zd_std_m)*(yd_std-yd_std_m))/len(xd_std)\n",
    "display(dataD2)\n",
    "\n",
    "df10_5b.iloc[:,0]=np.round(dataD1,2)\n",
    "df10_5b.iloc[:,1]=np.round(dataD2,3)\n",
    "\n",
    "df10_5b"
   ]
  },
  {
   "cell_type": "markdown",
   "metadata": {},
   "source": [
    "### 例10.12"
   ]
  },
  {
   "cell_type": "code",
   "execution_count": 25,
   "metadata": {},
   "outputs": [
    {
     "data": {
      "text/plain": [
       "179.72151898734177"
      ]
     },
     "metadata": {},
     "output_type": "display_data"
    },
    {
     "data": {
      "text/plain": [
       "82.75949367088607"
      ]
     },
     "metadata": {},
     "output_type": "display_data"
    },
    {
     "data": {
      "text/plain": [
       "29.416119211664796"
      ]
     },
     "metadata": {},
     "output_type": "display_data"
    },
    {
     "data": {
      "text/plain": [
       "72.3092453132511"
      ]
     },
     "metadata": {},
     "output_type": "display_data"
    },
    {
     "data": {
      "text/plain": [
       "29.37606152860118"
      ]
     },
     "metadata": {},
     "output_type": "display_data"
    }
   ],
   "source": [
    "var_xy=np.sum((xd-mu_x)*(yd-mu_y))/len(xd_std)\n",
    "\n",
    "display(mu_x)\n",
    "display(mu_y)\n",
    "\n",
    "display(var_x0)\n",
    "display(var_y0)\n",
    "display(var_xy)\n",
    "\n",
    "fy=lambda x:(var_xy/var_x0)*(x-mu_x)+mu_y\n",
    "fx=lambda y:(var_xy/var_y0)*(y-mu_y)+mu_x"
   ]
  },
  {
   "cell_type": "code",
   "execution_count": 26,
   "metadata": {},
   "outputs": [],
   "source": [
    "np.arange(np.min(df1_1['x']),np.max(df1_1['x']),0.5)\n",
    "xx=np.arange(np.min(df1_1['x']),np.max(df1_1['x']),0.5)"
   ]
  },
  {
   "cell_type": "code",
   "execution_count": 27,
   "metadata": {},
   "outputs": [
    {
     "data": {
      "image/png": "[encoded data removed]",
      "text/plain": [
       "<Figure size 432x288 with 1 Axes>"
      ]
     },
     "metadata": {
      "needs_background": "light"
     },
     "output_type": "display_data"
    }
   ],
   "source": [
    "plt.clf()\n",
    "plt.scatter(df1_1['x'].to_numpy(), df1_1['y'].to_numpy())\n",
    "\n",
    "xx=np.arange(np.min(df1_1['x']),np.max(df1_1['x'])+0.5,0.5)\n",
    "plt.plot(xx,fy(xx),'k-')\n",
    "\n",
    "yy=np.arange(np.min(df1_1['y']),np.max(df1_1['y'])+0.5,0.5)\n",
    "plt.plot(fx(yy),yy,'k--')\n",
    "\n",
    "plt.grid()\n",
    "plt.axis('equal')\n",
    "plt.xlim([160, 200])\n",
    "plt.ylim([60, 120])\n",
    "plt.axis('equal')\n",
    "\n",
    "plt.show()"
   ]
  },
  {
   "cell_type": "markdown",
   "metadata": {},
   "source": [
    "### 問題*"
   ]
  },
  {
   "cell_type": "code",
   "execution_count": null,
   "metadata": {},
   "outputs": [],
   "source": []
  },
  {
   "cell_type": "markdown",
   "metadata": {},
   "source": [
    "### 問題*"
   ]
  },
  {
   "cell_type": "code",
   "execution_count": null,
   "metadata": {},
   "outputs": [],
   "source": []
  },
  {
   "cell_type": "markdown",
   "metadata": {},
   "source": [
    "### 問題*"
   ]
  },
  {
   "cell_type": "code",
   "execution_count": null,
   "metadata": {},
   "outputs": [],
   "source": []
  },
  {
   "cell_type": "code",
   "execution_count": null,
   "metadata": {},
   "outputs": [],
   "source": []
  },
  {
   "cell_type": "markdown",
   "metadata": {},
   "source": [
    "### 問題*"
   ]
  },
  {
   "cell_type": "code",
   "execution_count": null,
   "metadata": {},
   "outputs": [],
   "source": []
  },
  {
   "cell_type": "markdown",
   "metadata": {},
   "source": [
    "### その他"
   ]
  },
  {
   "cell_type": "code",
   "execution_count": null,
   "metadata": {},
   "outputs": [],
   "source": []
  }
 ],
 "metadata": {
  "colab": {
   "provenance": []
  },
  "kernelspec": {
   "display_name": "Python 3 (ipykernel)",
   "language": "python",
   "name": "python3"
  },
  "language_info": {
   "codemirror_mode": {
    "name": "ipython",
    "version": 3
   },
   "file_extension": ".py",
   "mimetype": "text/x-python",
   "name": "python",
   "nbconvert_exporter": "python",
   "pygments_lexer": "ipython3",
   "version": "3.9.18"
  }
 },
 "nbformat": 4,
 "nbformat_minor": 1
}

{
 "cells": [
  {
   "cell_type": "markdown",
   "metadata": {
    "id": "qYFksbFAYbKl"
   },
   "source": [
    "# データ分析入門"
   ]
  },
  {
   "cell_type": "markdown",
   "metadata": {
    "id": "moLKePWqYfwS"
   },
   "source": [
    "## 第２章 １変量データ"
   ]
  },
  {
   "cell_type": "markdown",
   "metadata": {
    "id": "vE0IVMbdYlzt"
   },
   "source": [
    "### パッケージ読み込み"
   ]
  },
  {
   "cell_type": "code",
   "execution_count": null,
   "metadata": {},
   "outputs": [],
   "source": [
    "## Python basics for novice data scientists, \"Introduction to Data Analysis\" (2023- @The University of Kitakyushu Hibikino Campus) \n",
    "# supported by Hiroaki Wagatsuma \n",
    "#\n",
    "# The MIT License (MIT): Copyright (c) 2023 Nagahara Masaaki\n",
    "# \n",
    "# Permission is hereby granted, free of charge, to any person obtaining a copy of this software and associated documentation files (the \"Software\"), to deal in the Software without restriction, including without limitation the rights to use, copy, modify, merge, publish, distribute, sublicense, and/or sell copies of the Software, and to permit persons to whom the Software is furnished to do so, subject to the following conditions:\n",
    "# The above copyright notice and this permission notice shall be included in all copies or substantial portions of the Software.\n",
    "# THE SOFTWARE IS PROVIDED \"AS IS\", WITHOUT WARRANTY OF ANY KIND, EXPRESS OR IMPLIED, INCLUDING BUT NOT LIMITED TO THE WARRANTIES OF MERCHANTABILITY, FITNESS FOR A PARTICULAR PURPOSE AND NONINFRINGEMENT. IN NO EVENT SHALL THE AUTHORS OR COPYRIGHT HOLDERS BE LIABLE FOR ANY CLAIM, DAMAGES OR OTHER LIABILITY, WHETHER IN AN ACTION OF CONTRACT, TORT OR OTHERWISE, ARISING FROM, OUT OF OR IN CONNECTION WITH THE SOFTWARE OR THE USE OR OTHER DEALINGS IN THE SOFTWARE. */\n",
    "#\n",
    "# # @Time    : 2023-10-3 \n",
    "# # @Author  : Nagahara Masaaki\n",
    "# # @Site    : https://github.com/hirowgit/2A0_python_intro_data_analysis\n",
    "# # @IDE     : Python 3.10.9 (main, Dec 15 2022, 18:18:30) [Clang 14.0.0 (clang-1400.0.29.202)] on darwin\n",
    "# # @File    : data_analysis_2.py "
   ]
  },
  {
   "cell_type": "code",
   "execution_count": 1,
   "metadata": {
    "colab": {
     "base_uri": "https://localhost:8080/"
    },
    "id": "bh89DFF2Ylj2",
    "outputId": "c45d373f-bcef-420d-ae06-987132fe9f2a"
   },
   "outputs": [
    {
     "name": "stdout",
     "output_type": "stream",
     "text": [
      "\u001b[33mDEPRECATION: Configuring installation scheme with distutils config files is deprecated and will no longer work in the near future. If you are using a Homebrew or Linuxbrew Python, please see discussion at https://github.com/Homebrew/homebrew-core/issues/76621\u001b[0m\u001b[33m\n",
      "\u001b[0mCollecting japanize_matplotlib\n",
      "  Downloading japanize-matplotlib-1.1.3.tar.gz (4.1 MB)\n",
      "\u001b[2K     \u001b[90m━━━━━━━━━━━━━━━━━━━━━━━━━━━━━━━━━━━━━━━━\u001b[0m \u001b[32m4.1/4.1 MB\u001b[0m \u001b[31m1.1 MB/s\u001b[0m eta \u001b[36m0:00:00\u001b[0m00:01\u001b[0m00:01\u001b[0m0m\n",
      "\u001b[?25h  Preparing metadata (setup.py) ... \u001b[?25ldone\n",
      "\u001b[?25hRequirement already satisfied: matplotlib in /usr/local/lib/python3.9/site-packages (from japanize_matplotlib) (3.4.3)\n",
      "Requirement already satisfied: cycler>=0.10 in /usr/local/lib/python3.9/site-packages (from matplotlib->japanize_matplotlib) (0.10.0)\n",
      "Requirement already satisfied: kiwisolver>=1.0.1 in /usr/local/lib/python3.9/site-packages (from matplotlib->japanize_matplotlib) (1.3.1)\n",
      "Requirement already satisfied: numpy>=1.16 in /usr/local/lib/python3.9/site-packages (from matplotlib->japanize_matplotlib) (1.21.1)\n",
      "Requirement already satisfied: pillow>=6.2.0 in /usr/local/lib/python3.9/site-packages (from matplotlib->japanize_matplotlib) (8.3.1)\n",
      "Requirement already satisfied: pyparsing>=2.2.1 in /usr/local/lib/python3.9/site-packages (from matplotlib->japanize_matplotlib) (2.4.7)\n",
      "Requirement already satisfied: python-dateutil>=2.7 in /usr/local/lib/python3.9/site-packages (from matplotlib->japanize_matplotlib) (2.8.2)\n",
      "Requirement already satisfied: six in /usr/local/lib/python3.9/site-packages (from cycler>=0.10->matplotlib->japanize_matplotlib) (1.16.0)\n",
      "Building wheels for collected packages: japanize_matplotlib\n",
      "  Building wheel for japanize_matplotlib (setup.py) ... \u001b[?25ldone\n",
      "\u001b[?25h  Created wheel for japanize_matplotlib: filename=japanize_matplotlib-1.1.3-py3-none-any.whl size=4120258 sha256=bbc7696ae55bfe62516f8631cf80017901fde178f7c9c05c040f32bb13b3b30f\n",
      "  Stored in directory: /Users/hiro/Library/Caches/pip/wheels/91/8f/c2/83055ad0c9591b0a094730aa7cb2cc12fedacbcd2241baf534\n",
      "Successfully built japanize_matplotlib\n",
      "Installing collected packages: japanize_matplotlib\n",
      "\u001b[33m  DEPRECATION: Configuring installation scheme with distutils config files is deprecated and will no longer work in the near future. If you are using a Homebrew or Linuxbrew Python, please see discussion at https://github.com/Homebrew/homebrew-core/issues/76621\u001b[0m\u001b[33m\n",
      "\u001b[0m\u001b[33mDEPRECATION: Configuring installation scheme with distutils config files is deprecated and will no longer work in the near future. If you are using a Homebrew or Linuxbrew Python, please see discussion at https://github.com/Homebrew/homebrew-core/issues/76621\u001b[0m\u001b[33m\n",
      "\u001b[0mSuccessfully installed japanize_matplotlib-1.1.3\n",
      "\n",
      "\u001b[1m[\u001b[0m\u001b[34;49mnotice\u001b[0m\u001b[1;39;49m]\u001b[0m\u001b[39;49m A new release of pip is available: \u001b[0m\u001b[31;49m23.1.2\u001b[0m\u001b[39;49m -> \u001b[0m\u001b[32;49m23.2.1\u001b[0m\n",
      "\u001b[1m[\u001b[0m\u001b[34;49mnotice\u001b[0m\u001b[1;39;49m]\u001b[0m\u001b[39;49m To update, run: \u001b[0m\u001b[32;49mpython3.9 -m pip install --upgrade pip\u001b[0m\n"
     ]
    }
   ],
   "source": [
    "!pip install japanize_matplotlib\n",
    "%matplotlib inline\n",
    "import japanize_matplotlib\n",
    "from matplotlib import pyplot as plt\n",
    "\n",
    "import pandas as pd\n",
    "from pathlib import Path\n",
    "import numpy as np\n"
   ]
  },
  {
   "cell_type": "markdown",
   "metadata": {
    "id": "GfidQD4lZhAc"
   },
   "source": [
    "### 身長データ読み込み (data1.csv)"
   ]
  },
  {
   "cell_type": "code",
   "execution_count": 2,
   "metadata": {
    "id": "KF6084KmYYJM"
   },
   "outputs": [],
   "source": [
    "filepath = 'data1.csv'\n",
    "df = pd.read_csv(filepath, usecols=['性別','身長 (cm)'])"
   ]
  },
  {
   "cell_type": "markdown",
   "metadata": {
    "id": "14kFrY44xFLR"
   },
   "source": [
    "### データ統計量"
   ]
  },
  {
   "cell_type": "code",
   "execution_count": 3,
   "metadata": {
    "colab": {
     "base_uri": "https://localhost:8080/"
    },
    "id": "akp3oMwUZsvI",
    "outputId": "471ddc69-2764-4a17-f68c-d81b5cd6c277"
   },
   "outputs": [
    {
     "name": "stdout",
     "output_type": "stream",
     "text": [
      "          身長 (cm)\n",
      "count   68.000000\n",
      "mean   168.470588\n",
      "std      6.403056\n",
      "min    151.000000\n",
      "25%    165.000000\n",
      "50%    169.000000\n",
      "75%    172.000000\n",
      "max    182.000000\n"
     ]
    }
   ],
   "source": [
    "print(df.describe())"
   ]
  },
  {
   "cell_type": "markdown",
   "metadata": {
    "id": "ekQismRj4twd"
   },
   "source": [
    "### 度数分布表"
   ]
  },
  {
   "cell_type": "code",
   "execution_count": 4,
   "metadata": {
    "colab": {
     "base_uri": "https://localhost:8080/",
     "height": 269
    },
    "id": "f9GqZbDo2a9i",
    "outputId": "d9b60386-e367-49b0-e05a-4e5e13116f6f"
   },
   "outputs": [
    {
     "data": {
      "text/html": [
       "<div>\n",
       "<style scoped>\n",
       "    .dataframe tbody tr th:only-of-type {\n",
       "        vertical-align: middle;\n",
       "    }\n",
       "\n",
       "    .dataframe tbody tr th {\n",
       "        vertical-align: top;\n",
       "    }\n",
       "\n",
       "    .dataframe thead th {\n",
       "        text-align: right;\n",
       "    }\n",
       "</style>\n",
       "<table border=\"1\" class=\"dataframe\">\n",
       "  <thead>\n",
       "    <tr style=\"text-align: right;\">\n",
       "      <th></th>\n",
       "      <th>階級値</th>\n",
       "      <th>度数</th>\n",
       "      <th>相対度数 %</th>\n",
       "      <th>累積度数</th>\n",
       "      <th>相対累積度数 %</th>\n",
       "    </tr>\n",
       "  </thead>\n",
       "  <tbody>\n",
       "    <tr>\n",
       "      <th>(149.999, 155.0]</th>\n",
       "      <td>152.5</td>\n",
       "      <td>3</td>\n",
       "      <td>4.411765</td>\n",
       "      <td>3</td>\n",
       "      <td>4.411765</td>\n",
       "    </tr>\n",
       "    <tr>\n",
       "      <th>(155.0, 160.0]</th>\n",
       "      <td>157.5</td>\n",
       "      <td>4</td>\n",
       "      <td>5.882353</td>\n",
       "      <td>7</td>\n",
       "      <td>10.294118</td>\n",
       "    </tr>\n",
       "    <tr>\n",
       "      <th>(160.0, 165.0]</th>\n",
       "      <td>162.5</td>\n",
       "      <td>13</td>\n",
       "      <td>19.117647</td>\n",
       "      <td>20</td>\n",
       "      <td>29.411765</td>\n",
       "    </tr>\n",
       "    <tr>\n",
       "      <th>(165.0, 170.0]</th>\n",
       "      <td>167.5</td>\n",
       "      <td>25</td>\n",
       "      <td>36.764706</td>\n",
       "      <td>45</td>\n",
       "      <td>66.176471</td>\n",
       "    </tr>\n",
       "    <tr>\n",
       "      <th>(170.0, 175.0]</th>\n",
       "      <td>172.5</td>\n",
       "      <td>17</td>\n",
       "      <td>25.000000</td>\n",
       "      <td>62</td>\n",
       "      <td>91.176471</td>\n",
       "    </tr>\n",
       "    <tr>\n",
       "      <th>(175.0, 180.0]</th>\n",
       "      <td>177.5</td>\n",
       "      <td>4</td>\n",
       "      <td>5.882353</td>\n",
       "      <td>66</td>\n",
       "      <td>97.058824</td>\n",
       "    </tr>\n",
       "    <tr>\n",
       "      <th>(180.0, 185.0]</th>\n",
       "      <td>182.5</td>\n",
       "      <td>2</td>\n",
       "      <td>2.941176</td>\n",
       "      <td>68</td>\n",
       "      <td>100.000000</td>\n",
       "    </tr>\n",
       "  </tbody>\n",
       "</table>\n",
       "</div>"
      ],
      "text/plain": [
       "                    階級値  度数     相対度数 %  累積度数    相対累積度数 %\n",
       "(149.999, 155.0]  152.5   3   4.411765     3    4.411765\n",
       "(155.0, 160.0]    157.5   4   5.882353     7   10.294118\n",
       "(160.0, 165.0]    162.5  13  19.117647    20   29.411765\n",
       "(165.0, 170.0]    167.5  25  36.764706    45   66.176471\n",
       "(170.0, 175.0]    172.5  17  25.000000    62   91.176471\n",
       "(175.0, 180.0]    177.5   4   5.882353    66   97.058824\n",
       "(180.0, 185.0]    182.5   2   2.941176    68  100.000000"
      ]
     },
     "execution_count": 4,
     "metadata": {},
     "output_type": "execute_result"
    }
   ],
   "source": [
    "scores = pd.Series(df['身長 (cm)'])\n",
    "\n",
    "bins = np.array([150,155,160,165,170,175,180,185])\n",
    "freq = scores.value_counts(bins=bins, sort=False)\n",
    "\n",
    "class_value = (bins[:-1] + bins[1:]) / 2  # 階級値\n",
    "rel_freq = freq / scores.count() *100  # 相対度数\n",
    "cum_freq = freq.cumsum()  # 累積度数\n",
    "rel_cum_freq = rel_freq.cumsum()  # 相対累積度数\n",
    "\n",
    "dist = pd.DataFrame(\n",
    "    {\n",
    "        \"階級値\": class_value,\n",
    "        \"度数\": freq,\n",
    "        \"相対度数 %\": rel_freq,\n",
    "        \"累積度数\": cum_freq,\n",
    "        \"相対累積度数 %\": rel_cum_freq,\n",
    "    },\n",
    "    index=freq.index\n",
    ")\n",
    "dist"
   ]
  },
  {
   "cell_type": "markdown",
   "metadata": {
    "id": "a9W_LBwz4w78"
   },
   "source": [
    "### ヒストグラム"
   ]
  },
  {
   "cell_type": "code",
   "execution_count": 5,
   "metadata": {
    "colab": {
     "base_uri": "https://localhost:8080/",
     "height": 314
    },
    "id": "v-ZmNLP3zEPn",
    "outputId": "06d0fe1b-e20f-4820-d488-b70f220fd708"
   },
   "outputs": [
    {
     "data": {
      "text/plain": [
       "<AxesSubplot:xlabel='階級値'>"
      ]
     },
     "execution_count": 5,
     "metadata": {},
     "output_type": "execute_result"
    },
    {
     "data": {
      "image/png": "[encoded data removed]",
      "text/plain": [
       "<Figure size 432x288 with 1 Axes>"
      ]
     },
     "metadata": {
      "needs_background": "light"
     },
     "output_type": "display_data"
    }
   ],
   "source": [
    "dist.plot.bar(x=\"階級値\", y=\"度数\", width=1, ec=\"k\", lw=2)"
   ]
  },
  {
   "cell_type": "markdown",
   "metadata": {
    "id": "s8iX5qGm5jLl"
   },
   "source": [
    "### 細かいbin"
   ]
  },
  {
   "cell_type": "code",
   "execution_count": 6,
   "metadata": {
    "colab": {
     "base_uri": "https://localhost:8080/",
     "height": 314
    },
    "id": "ts9YI0HJ44fT",
    "outputId": "dc8cd25d-8df1-4807-e66d-b0c2a90a86bf"
   },
   "outputs": [
    {
     "data": {
      "text/plain": [
       "<AxesSubplot:xlabel='階級値'>"
      ]
     },
     "execution_count": 6,
     "metadata": {},
     "output_type": "execute_result"
    },
    {
     "data": {
      "image/png": "[encoded data removed]",
      "text/plain": [
       "<Figure size 432x288 with 1 Axes>"
      ]
     },
     "metadata": {
      "needs_background": "light"
     },
     "output_type": "display_data"
    }
   ],
   "source": [
    "bins = np.arange(150,185,1)\n",
    "freq = scores.value_counts(bins=bins, sort=False)\n",
    "\n",
    "class_value = (bins[:-1] + bins[1:]) / 2  # 階級値\n",
    "rel_freq = freq / scores.count() *100  # 相対度数\n",
    "cum_freq = freq.cumsum()  # 累積度数\n",
    "rel_cum_freq = rel_freq.cumsum()  # 相対累積度数\n",
    "\n",
    "dist = pd.DataFrame(\n",
    "    {\n",
    "        \"階級値\": class_value,\n",
    "        \"度数\": freq,\n",
    "        \"相対度数 %\": rel_freq,\n",
    "        \"累積度数\": cum_freq,\n",
    "        \"相対累積度数 %\": rel_cum_freq,\n",
    "    },\n",
    "    index=freq.index\n",
    ")\n",
    "dist.plot.bar(x=\"階級値\", y=\"度数\", width=1, ec=\"k\", lw=2)"
   ]
  },
  {
   "cell_type": "markdown",
   "metadata": {
    "id": "S4P-6FVX6vJx"
   },
   "source": [
    "### 男性のヒストグラム\n"
   ]
  },
  {
   "cell_type": "code",
   "execution_count": 7,
   "metadata": {
    "colab": {
     "base_uri": "https://localhost:8080/",
     "height": 315
    },
    "id": "QGapep695onZ",
    "outputId": "ca047f10-e101-45b7-93fd-3eccd668caf0"
   },
   "outputs": [
    {
     "data": {
      "text/plain": [
       "array([[<AxesSubplot:title={'center':'身長 (cm)'}>]], dtype=object)"
      ]
     },
     "execution_count": 7,
     "metadata": {},
     "output_type": "execute_result"
    },
    {
     "data": {
      "image/png": "[encoded data removed]",
      "text/plain": [
       "<Figure size 432x288 with 1 Axes>"
      ]
     },
     "metadata": {
      "needs_background": "light"
     },
     "output_type": "display_data"
    }
   ],
   "source": [
    "df[df[\"性別\"] == \"男\"].hist(bins=10, ec=\"k\", lw=2, grid=False)"
   ]
  },
  {
   "cell_type": "markdown",
   "metadata": {
    "id": "S9gVlnep7KFw"
   },
   "source": [
    "### 女性のヒストグラム"
   ]
  },
  {
   "cell_type": "code",
   "execution_count": 8,
   "metadata": {
    "colab": {
     "base_uri": "https://localhost:8080/",
     "height": 315
    },
    "id": "ljHV-a9x7J0o",
    "outputId": "c7d2a157-1354-48ed-b45e-c72ed607affc"
   },
   "outputs": [
    {
     "data": {
      "text/plain": [
       "array([[<AxesSubplot:title={'center':'身長 (cm)'}>]], dtype=object)"
      ]
     },
     "execution_count": 8,
     "metadata": {},
     "output_type": "execute_result"
    },
    {
     "data": {
      "image/png": "[encoded data removed]",
      "text/plain": [
       "<Figure size 432x288 with 1 Axes>"
      ]
     },
     "metadata": {
      "needs_background": "light"
     },
     "output_type": "display_data"
    }
   ],
   "source": [
    "df[df[\"性別\"] == \"女\"].hist(bins=10, ec=\"k\", lw=2, grid=False)\n"
   ]
  },
  {
   "cell_type": "markdown",
   "metadata": {
    "id": "JKOy8mdw97eo"
   },
   "source": [
    "### 月収"
   ]
  },
  {
   "cell_type": "code",
   "execution_count": 9,
   "metadata": {
    "colab": {
     "base_uri": "https://localhost:8080/",
     "height": 801
    },
    "id": "EXaZpGL-6zXa",
    "outputId": "e32c07a6-b158-408d-a18f-e863c1b3448e"
   },
   "outputs": [
    {
     "name": "stdout",
     "output_type": "stream",
     "text": [
      "               収入（円）  20年後の自分の年収（円）\n",
      "count      68.000000   6.800000e+01\n",
      "mean    55985.955882   1.057216e+07\n",
      "std     50517.315929   3.107300e+07\n",
      "min         0.000000   0.000000e+00\n",
      "25%     30000.000000   2.750000e+06\n",
      "50%     50000.000000   5.000000e+06\n",
      "75%     72500.000000   8.250000e+06\n",
      "max    360000.000000   2.500000e+08\n"
     ]
    },
    {
     "data": {
      "text/html": [
       "<div>\n",
       "<style scoped>\n",
       "    .dataframe tbody tr th:only-of-type {\n",
       "        vertical-align: middle;\n",
       "    }\n",
       "\n",
       "    .dataframe tbody tr th {\n",
       "        vertical-align: top;\n",
       "    }\n",
       "\n",
       "    .dataframe thead th {\n",
       "        text-align: right;\n",
       "    }\n",
       "</style>\n",
       "<table border=\"1\" class=\"dataframe\">\n",
       "  <thead>\n",
       "    <tr style=\"text-align: right;\">\n",
       "      <th></th>\n",
       "      <th>階級値</th>\n",
       "      <th>度数</th>\n",
       "      <th>相対度数 %</th>\n",
       "      <th>累積度数</th>\n",
       "      <th>相対累積度数 %</th>\n",
       "    </tr>\n",
       "  </thead>\n",
       "  <tbody>\n",
       "    <tr>\n",
       "      <th>(-0.001, 20000.0]</th>\n",
       "      <td>10000.0</td>\n",
       "      <td>14</td>\n",
       "      <td>20.588235</td>\n",
       "      <td>14</td>\n",
       "      <td>20.588235</td>\n",
       "    </tr>\n",
       "    <tr>\n",
       "      <th>(20000.0, 40000.0]</th>\n",
       "      <td>30000.0</td>\n",
       "      <td>13</td>\n",
       "      <td>19.117647</td>\n",
       "      <td>27</td>\n",
       "      <td>39.705882</td>\n",
       "    </tr>\n",
       "    <tr>\n",
       "      <th>(40000.0, 60000.0]</th>\n",
       "      <td>50000.0</td>\n",
       "      <td>19</td>\n",
       "      <td>27.941176</td>\n",
       "      <td>46</td>\n",
       "      <td>67.647059</td>\n",
       "    </tr>\n",
       "    <tr>\n",
       "      <th>(60000.0, 80000.0]</th>\n",
       "      <td>70000.0</td>\n",
       "      <td>11</td>\n",
       "      <td>16.176471</td>\n",
       "      <td>57</td>\n",
       "      <td>83.823529</td>\n",
       "    </tr>\n",
       "    <tr>\n",
       "      <th>(80000.0, 100000.0]</th>\n",
       "      <td>90000.0</td>\n",
       "      <td>6</td>\n",
       "      <td>8.823529</td>\n",
       "      <td>63</td>\n",
       "      <td>92.647059</td>\n",
       "    </tr>\n",
       "    <tr>\n",
       "      <th>(100000.0, 120000.0]</th>\n",
       "      <td>110000.0</td>\n",
       "      <td>2</td>\n",
       "      <td>2.941176</td>\n",
       "      <td>65</td>\n",
       "      <td>95.588235</td>\n",
       "    </tr>\n",
       "    <tr>\n",
       "      <th>(120000.0, 140000.0]</th>\n",
       "      <td>130000.0</td>\n",
       "      <td>1</td>\n",
       "      <td>1.470588</td>\n",
       "      <td>66</td>\n",
       "      <td>97.058824</td>\n",
       "    </tr>\n",
       "    <tr>\n",
       "      <th>(140000.0, 160000.0]</th>\n",
       "      <td>150000.0</td>\n",
       "      <td>1</td>\n",
       "      <td>1.470588</td>\n",
       "      <td>67</td>\n",
       "      <td>98.529412</td>\n",
       "    </tr>\n",
       "    <tr>\n",
       "      <th>(160000.0, 180000.0]</th>\n",
       "      <td>170000.0</td>\n",
       "      <td>0</td>\n",
       "      <td>0.000000</td>\n",
       "      <td>67</td>\n",
       "      <td>98.529412</td>\n",
       "    </tr>\n",
       "    <tr>\n",
       "      <th>(180000.0, 200000.0]</th>\n",
       "      <td>190000.0</td>\n",
       "      <td>0</td>\n",
       "      <td>0.000000</td>\n",
       "      <td>67</td>\n",
       "      <td>98.529412</td>\n",
       "    </tr>\n",
       "    <tr>\n",
       "      <th>(200000.0, 220000.0]</th>\n",
       "      <td>210000.0</td>\n",
       "      <td>0</td>\n",
       "      <td>0.000000</td>\n",
       "      <td>67</td>\n",
       "      <td>98.529412</td>\n",
       "    </tr>\n",
       "    <tr>\n",
       "      <th>(220000.0, 240000.0]</th>\n",
       "      <td>230000.0</td>\n",
       "      <td>0</td>\n",
       "      <td>0.000000</td>\n",
       "      <td>67</td>\n",
       "      <td>98.529412</td>\n",
       "    </tr>\n",
       "    <tr>\n",
       "      <th>(240000.0, 260000.0]</th>\n",
       "      <td>250000.0</td>\n",
       "      <td>0</td>\n",
       "      <td>0.000000</td>\n",
       "      <td>67</td>\n",
       "      <td>98.529412</td>\n",
       "    </tr>\n",
       "    <tr>\n",
       "      <th>(260000.0, 280000.0]</th>\n",
       "      <td>270000.0</td>\n",
       "      <td>0</td>\n",
       "      <td>0.000000</td>\n",
       "      <td>67</td>\n",
       "      <td>98.529412</td>\n",
       "    </tr>\n",
       "    <tr>\n",
       "      <th>(280000.0, 300000.0]</th>\n",
       "      <td>290000.0</td>\n",
       "      <td>0</td>\n",
       "      <td>0.000000</td>\n",
       "      <td>67</td>\n",
       "      <td>98.529412</td>\n",
       "    </tr>\n",
       "    <tr>\n",
       "      <th>(300000.0, 320000.0]</th>\n",
       "      <td>310000.0</td>\n",
       "      <td>0</td>\n",
       "      <td>0.000000</td>\n",
       "      <td>67</td>\n",
       "      <td>98.529412</td>\n",
       "    </tr>\n",
       "    <tr>\n",
       "      <th>(320000.0, 340000.0]</th>\n",
       "      <td>330000.0</td>\n",
       "      <td>0</td>\n",
       "      <td>0.000000</td>\n",
       "      <td>67</td>\n",
       "      <td>98.529412</td>\n",
       "    </tr>\n",
       "    <tr>\n",
       "      <th>(340000.0, 360000.0]</th>\n",
       "      <td>350000.0</td>\n",
       "      <td>1</td>\n",
       "      <td>1.470588</td>\n",
       "      <td>68</td>\n",
       "      <td>100.000000</td>\n",
       "    </tr>\n",
       "    <tr>\n",
       "      <th>(360000.0, 380000.0]</th>\n",
       "      <td>370000.0</td>\n",
       "      <td>0</td>\n",
       "      <td>0.000000</td>\n",
       "      <td>68</td>\n",
       "      <td>100.000000</td>\n",
       "    </tr>\n",
       "  </tbody>\n",
       "</table>\n",
       "</div>"
      ],
      "text/plain": [
       "                           階級値  度数     相対度数 %  累積度数    相対累積度数 %\n",
       "(-0.001, 20000.0]      10000.0  14  20.588235    14   20.588235\n",
       "(20000.0, 40000.0]     30000.0  13  19.117647    27   39.705882\n",
       "(40000.0, 60000.0]     50000.0  19  27.941176    46   67.647059\n",
       "(60000.0, 80000.0]     70000.0  11  16.176471    57   83.823529\n",
       "(80000.0, 100000.0]    90000.0   6   8.823529    63   92.647059\n",
       "(100000.0, 120000.0]  110000.0   2   2.941176    65   95.588235\n",
       "(120000.0, 140000.0]  130000.0   1   1.470588    66   97.058824\n",
       "(140000.0, 160000.0]  150000.0   1   1.470588    67   98.529412\n",
       "(160000.0, 180000.0]  170000.0   0   0.000000    67   98.529412\n",
       "(180000.0, 200000.0]  190000.0   0   0.000000    67   98.529412\n",
       "(200000.0, 220000.0]  210000.0   0   0.000000    67   98.529412\n",
       "(220000.0, 240000.0]  230000.0   0   0.000000    67   98.529412\n",
       "(240000.0, 260000.0]  250000.0   0   0.000000    67   98.529412\n",
       "(260000.0, 280000.0]  270000.0   0   0.000000    67   98.529412\n",
       "(280000.0, 300000.0]  290000.0   0   0.000000    67   98.529412\n",
       "(300000.0, 320000.0]  310000.0   0   0.000000    67   98.529412\n",
       "(320000.0, 340000.0]  330000.0   0   0.000000    67   98.529412\n",
       "(340000.0, 360000.0]  350000.0   1   1.470588    68  100.000000\n",
       "(360000.0, 380000.0]  370000.0   0   0.000000    68  100.000000"
      ]
     },
     "execution_count": 9,
     "metadata": {},
     "output_type": "execute_result"
    }
   ],
   "source": [
    "filepath = 'data1.csv'\n",
    "df = pd.read_csv(filepath, usecols=['収入（円）','20年後の自分の年収（円）'])\n",
    "print(df.describe())\n",
    "scores = pd.Series(df['収入（円）'])\n",
    "bins = np.arange(0,400000,20000)\n",
    "freq = scores.value_counts(bins=bins,sort=False)\n",
    "\n",
    "class_value = (bins[:-1] + bins[1:]) / 2  # 階級値\n",
    "rel_freq = freq / scores.count() *100  # 相対度数\n",
    "cum_freq = freq.cumsum()  # 累積度数\n",
    "rel_cum_freq = rel_freq.cumsum()  # 相対累積度数\n",
    "\n",
    "dist = pd.DataFrame(\n",
    "    {\n",
    "        \"階級値\": class_value,\n",
    "        \"度数\": freq,\n",
    "        \"相対度数 %\": rel_freq,\n",
    "        \"累積度数\": cum_freq,\n",
    "        \"相対累積度数 %\": rel_cum_freq,\n",
    "    },\n",
    "    index=freq.index\n",
    ")\n",
    "dist\n"
   ]
  },
  {
   "cell_type": "code",
   "execution_count": 10,
   "metadata": {
    "id": "wXDvvwT8Dokp"
   },
   "outputs": [
    {
     "data": {
      "text/plain": [
       "<AxesSubplot:xlabel='階級値'>"
      ]
     },
     "execution_count": 10,
     "metadata": {},
     "output_type": "execute_result"
    },
    {
     "data": {
      "image/png": "[encoded data removed]",
      "text/plain": [
       "<Figure size 432x288 with 1 Axes>"
      ]
     },
     "metadata": {
      "needs_background": "light"
     },
     "output_type": "display_data"
    }
   ],
   "source": [
    "dist.plot.bar(x=\"階級値\", y=\"度数\", width=1, ec=\"k\", lw=2)"
   ]
  },
  {
   "cell_type": "markdown",
   "metadata": {},
   "source": [
    "### 中央値（メディアン）"
   ]
  },
  {
   "cell_type": "code",
   "execution_count": 11,
   "metadata": {
    "colab": {
     "base_uri": "https://localhost:8080/"
    },
    "id": "7OKLob1p-QMp",
    "outputId": "870cd29f-b85a-4918-f12a-5e69dc7a3b48"
   },
   "outputs": [
    {
     "data": {
      "text/plain": [
       "収入（円）              50000.0\n",
       "20年後の自分の年収（円）    5000000.0\n",
       "dtype: float64"
      ]
     },
     "execution_count": 11,
     "metadata": {},
     "output_type": "execute_result"
    }
   ],
   "source": [
    "df.median()"
   ]
  },
  {
   "cell_type": "markdown",
   "metadata": {
    "id": "6x7_lRf2BoCq"
   },
   "source": [
    "### 20年後の年収"
   ]
  },
  {
   "cell_type": "code",
   "execution_count": 12,
   "metadata": {
    "colab": {
     "base_uri": "https://localhost:8080/",
     "height": 496
    },
    "id": "iShKrkR_BTlM",
    "outputId": "7e281b62-feda-430c-b0c3-ff56af81864b"
   },
   "outputs": [
    {
     "name": "stdout",
     "output_type": "stream",
     "text": [
      "               収入（円）  20年後の自分の年収（円）\n",
      "count      68.000000   6.800000e+01\n",
      "mean    55985.955882   1.057216e+07\n",
      "std     50517.315929   3.107300e+07\n",
      "min         0.000000   0.000000e+00\n",
      "25%     30000.000000   2.750000e+06\n",
      "50%     50000.000000   5.000000e+06\n",
      "75%     72500.000000   8.250000e+06\n",
      "max    360000.000000   2.500000e+08\n"
     ]
    },
    {
     "data": {
      "text/plain": [
       "<AxesSubplot:xlabel='階級値'>"
      ]
     },
     "execution_count": 12,
     "metadata": {},
     "output_type": "execute_result"
    },
    {
     "data": {
      "image/png": "[encoded data removed]",
      "text/plain": [
       "<Figure size 432x288 with 1 Axes>"
      ]
     },
     "metadata": {
      "needs_background": "light"
     },
     "output_type": "display_data"
    }
   ],
   "source": [
    "filepath = 'data1.csv'\n",
    "df = pd.read_csv(filepath, usecols=['収入（円）','20年後の自分の年収（円）'])\n",
    "print(df.describe())\n",
    "scores = pd.Series(df['20年後の自分の年収（円）'])\n",
    "bins = np.arange(0,10000000,1000000)\n",
    "freq = scores.value_counts(bins=bins,sort=False)\n",
    "\n",
    "class_value = (bins[:-1] + bins[1:]) / 2  # 階級値\n",
    "rel_freq = freq / scores.count() *100  # 相対度数\n",
    "cum_freq = freq.cumsum()  # 累積度数\n",
    "rel_cum_freq = rel_freq.cumsum()  # 相対累積度数\n",
    "\n",
    "dist = pd.DataFrame(\n",
    "    {\n",
    "        \"階級値\": class_value,\n",
    "        \"度数\": freq,\n",
    "        \"相対度数 %\": rel_freq,\n",
    "        \"累積度数\": cum_freq,\n",
    "        \"相対累積度数 %\": rel_cum_freq,\n",
    "    },\n",
    "    index=freq.index\n",
    ")\n",
    "\n",
    "dist.plot.bar(x=\"階級値\", y=\"度数\", width=1, ec=\"k\", lw=2)"
   ]
  },
  {
   "cell_type": "markdown",
   "metadata": {
    "id": "GQbSmBCYMPkd"
   },
   "source": [
    "### 箱ひげ図（身長）"
   ]
  },
  {
   "cell_type": "code",
   "execution_count": 13,
   "metadata": {
    "colab": {
     "base_uri": "https://localhost:8080/",
     "height": 336
    },
    "id": "CvppBKgYMTUT",
    "outputId": "de0114d1-6b12-4e96-e2f8-c34dffd17f57"
   },
   "outputs": [
    {
     "data": {
      "text/plain": [
       "<AxesSubplot:>"
      ]
     },
     "execution_count": 13,
     "metadata": {},
     "output_type": "execute_result"
    },
    {
     "data": {
      "image/png": "[encoded data removed]",
      "text/plain": [
       "<Figure size 432x288 with 1 Axes>"
      ]
     },
     "metadata": {
      "needs_background": "light"
     },
     "output_type": "display_data"
    }
   ],
   "source": [
    "filepath = 'data1.csv'\n",
    "df = pd.read_csv(filepath, usecols=['性別','身長 (cm)'])\n",
    "df.plot.box(whis=[0,100],vert=False)"
   ]
  },
  {
   "cell_type": "markdown",
   "metadata": {},
   "source": [
    "### 統計量（身長）"
   ]
  },
  {
   "cell_type": "code",
   "execution_count": 14,
   "metadata": {
    "colab": {
     "base_uri": "https://localhost:8080/",
     "height": 300
    },
    "id": "Sb-MKSbEMW3W",
    "outputId": "7dffd59a-608a-4d10-a28f-4b8d6231ff4e"
   },
   "outputs": [
    {
     "data": {
      "text/html": [
       "<div>\n",
       "<style scoped>\n",
       "    .dataframe tbody tr th:only-of-type {\n",
       "        vertical-align: middle;\n",
       "    }\n",
       "\n",
       "    .dataframe tbody tr th {\n",
       "        vertical-align: top;\n",
       "    }\n",
       "\n",
       "    .dataframe thead th {\n",
       "        text-align: right;\n",
       "    }\n",
       "</style>\n",
       "<table border=\"1\" class=\"dataframe\">\n",
       "  <thead>\n",
       "    <tr style=\"text-align: right;\">\n",
       "      <th></th>\n",
       "      <th>身長 (cm)</th>\n",
       "    </tr>\n",
       "  </thead>\n",
       "  <tbody>\n",
       "    <tr>\n",
       "      <th>count</th>\n",
       "      <td>68.000000</td>\n",
       "    </tr>\n",
       "    <tr>\n",
       "      <th>mean</th>\n",
       "      <td>168.470588</td>\n",
       "    </tr>\n",
       "    <tr>\n",
       "      <th>std</th>\n",
       "      <td>6.403056</td>\n",
       "    </tr>\n",
       "    <tr>\n",
       "      <th>min</th>\n",
       "      <td>151.000000</td>\n",
       "    </tr>\n",
       "    <tr>\n",
       "      <th>25%</th>\n",
       "      <td>165.000000</td>\n",
       "    </tr>\n",
       "    <tr>\n",
       "      <th>50%</th>\n",
       "      <td>169.000000</td>\n",
       "    </tr>\n",
       "    <tr>\n",
       "      <th>75%</th>\n",
       "      <td>172.000000</td>\n",
       "    </tr>\n",
       "    <tr>\n",
       "      <th>max</th>\n",
       "      <td>182.000000</td>\n",
       "    </tr>\n",
       "  </tbody>\n",
       "</table>\n",
       "</div>"
      ],
      "text/plain": [
       "          身長 (cm)\n",
       "count   68.000000\n",
       "mean   168.470588\n",
       "std      6.403056\n",
       "min    151.000000\n",
       "25%    165.000000\n",
       "50%    169.000000\n",
       "75%    172.000000\n",
       "max    182.000000"
      ]
     },
     "execution_count": 14,
     "metadata": {},
     "output_type": "execute_result"
    }
   ],
   "source": [
    "df.describe()"
   ]
  },
  {
   "cell_type": "code",
   "execution_count": null,
   "metadata": {
    "id": "j9dO-Ky7ZobN"
   },
   "outputs": [],
   "source": []
  }
 ],
 "metadata": {
  "colab": {
   "provenance": []
  },
  "kernelspec": {
   "display_name": "Python 3 (ipykernel)",
   "language": "python",
   "name": "python3"
  },
  "language_info": {
   "codemirror_mode": {
    "name": "ipython",
    "version": 3
   },
   "file_extension": ".py",
   "mimetype": "text/x-python",
   "name": "python",
   "nbconvert_exporter": "python",
   "pygments_lexer": "ipython3",
   "version": "3.9.16"
  }
 },
 "nbformat": 4,
 "nbformat_minor": 1
}

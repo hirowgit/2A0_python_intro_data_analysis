{
 "cells": [
  {
   "cell_type": "markdown",
   "metadata": {
    "id": "qYFksbFAYbKl"
   },
   "source": [
    "# データ分析入門"
   ]
  },
  {
   "cell_type": "markdown",
   "metadata": {
    "id": "moLKePWqYfwS"
   },
   "source": [
    "## 第9章 仮説検定 #11\n"
   ]
  },
  {
   "cell_type": "markdown",
   "metadata": {
    "id": "vE0IVMbdYlzt"
   },
   "source": [
    "### パッケージ読み込み"
   ]
  },
  {
   "cell_type": "code",
   "execution_count": 70,
   "metadata": {
    "colab": {
     "base_uri": "https://localhost:8080/"
    },
    "id": "bh89DFF2Ylj2",
    "outputId": "c45d373f-bcef-420d-ae06-987132fe9f2a"
   },
   "outputs": [],
   "source": [
    "# !pip install japanize_matplotlib\n",
    "# !pip install sympy\n",
    "\n",
    "%matplotlib inline\n",
    "import japanize_matplotlib\n",
    "from matplotlib import pyplot as plt\n",
    "\n",
    "import pandas as pd\n",
    "from pathlib import Path\n",
    "import math\n",
    "import numpy as np\n",
    "\n",
    "import sympy as sym\n"
   ]
  },
  {
   "cell_type": "markdown",
   "metadata": {
    "id": "GfidQD4lZhAc"
   },
   "source": [
    "### 正規分布の数値計算"
   ]
  },
  {
   "cell_type": "code",
   "execution_count": 71,
   "metadata": {},
   "outputs": [
    {
     "data": {
      "image/png": "[encoded data removed]",
      "text/plain": [
       "<Figure size 432x288 with 1 Axes>"
      ]
     },
     "metadata": {
      "needs_background": "light"
     },
     "output_type": "display_data"
    }
   ],
   "source": [
    "# https://rinsaka.com/python/statistics/01-norm.html\n",
    "# 横軸用のnumpy配列を準備\n",
    "\n",
    "from scipy.stats import norm\n",
    "from scipy.stats import t\n",
    "\n",
    "x_step = 0.05\n",
    "x_min = -5\n",
    "x_max = x_step + 5\n",
    "x = np.arange(x_min, x_max, x_step)\n",
    " \n",
    "# 標準正規分布\n",
    "y = norm.pdf(x)\n",
    " \n",
    "# グラフを描く\n",
    "fig, ax = plt.subplots(1, 1, figsize=(6, 4))\n",
    "ax.plot(x, y)\n",
    "ax.set_xlim(-4.5, 4.5)\n",
    "ax.set_ylim(0, 0.45)\n",
    "ax.set_xticks(np.arange(-4, 5, 1))\n",
    "ax.set_yticks(np.arange(0.0, 0.5, 0.1))\n",
    "ax.grid()\n",
    "# plt.savefig('normal.png', dpi=300, facecolor='white')\n",
    "plt.show()"
   ]
  },
  {
   "cell_type": "markdown",
   "metadata": {},
   "source": [
    "### 例9.2"
   ]
  },
  {
   "cell_type": "code",
   "execution_count": 72,
   "metadata": {},
   "outputs": [
    {
     "data": {
      "text/plain": [
       "0.05795839814029764"
      ]
     },
     "execution_count": 72,
     "metadata": {},
     "output_type": "execute_result"
    }
   ],
   "source": [
    "k=100\n",
    "P_x_46=math.comb(100, 46)*(0.5**k)\n",
    "P_x_46"
   ]
  },
  {
   "cell_type": "code",
   "execution_count": 73,
   "metadata": {},
   "outputs": [
    {
     "data": {
      "text/plain": [
       "0.7"
      ]
     },
     "execution_count": 73,
     "metadata": {},
     "output_type": "execute_result"
    }
   ],
   "source": [
    "(53.5-50)/5"
   ]
  },
  {
   "cell_type": "code",
   "execution_count": 74,
   "metadata": {},
   "outputs": [
    {
     "data": {
      "text/plain": [
       "0.48392730444614607"
      ]
     },
     "execution_count": 74,
     "metadata": {},
     "output_type": "execute_result"
    }
   ],
   "source": [
    "(1-norm.cdf(x = 0.7))*2"
   ]
  },
  {
   "cell_type": "code",
   "execution_count": 75,
   "metadata": {},
   "outputs": [
    {
     "data": {
      "text/plain": [
       "0.000966848284767563"
      ]
     },
     "execution_count": 75,
     "metadata": {},
     "output_type": "execute_result"
    }
   ],
   "source": [
    "Px665=(1-norm.cdf(x = (66.5-50)/5))*2\n",
    "Px665"
   ]
  },
  {
   "cell_type": "markdown",
   "metadata": {},
   "source": [
    "### 例9.3 "
   ]
  },
  {
   "cell_type": "code",
   "execution_count": 76,
   "metadata": {},
   "outputs": [
    {
     "data": {
      "text/plain": [
       "array([23.5, 25.1, 24.8, 25.6, 24.4, 23.6])"
      ]
     },
     "execution_count": 76,
     "metadata": {},
     "output_type": "execute_result"
    }
   ],
   "source": [
    "Data=np.array([23.5, 25.1,24.8,25.6,24.4,23.6])\n",
    "Data\n"
   ]
  },
  {
   "cell_type": "code",
   "execution_count": 77,
   "metadata": {},
   "outputs": [],
   "source": [
    "sigma=0.6\n",
    "xhat=24\n",
    "n=6"
   ]
  },
  {
   "cell_type": "code",
   "execution_count": 78,
   "metadata": {},
   "outputs": [
    {
     "data": {
      "text/plain": [
       "2.0412414523193148"
      ]
     },
     "execution_count": 78,
     "metadata": {},
     "output_type": "execute_result"
    }
   ],
   "source": [
    "z1=(24.5-24)/(0.6/math.sqrt(6))\n",
    "z1"
   ]
  },
  {
   "cell_type": "code",
   "execution_count": 79,
   "metadata": {},
   "outputs": [
    {
     "data": {
      "text/plain": [
       "0.4800911676355311"
      ]
     },
     "metadata": {},
     "output_type": "display_data"
    },
    {
     "data": {
      "text/plain": [
       "1.9599639845400545"
      ]
     },
     "metadata": {},
     "output_type": "display_data"
    }
   ],
   "source": [
    "wfn=norm.isf(q = 0.025)*sigma/math.sqrt(n)\n",
    "z_alpha=norm.isf(q = 0.025)\n",
    "display(wfn)\n",
    "display(z_alpha)"
   ]
  },
  {
   "cell_type": "code",
   "execution_count": 80,
   "metadata": {},
   "outputs": [
    {
     "name": "stdout",
     "output_type": "stream",
     "text": [
      "有意水準5%の両側検定によって帰無仮説H0は棄却される\n"
     ]
    }
   ],
   "source": [
    "if abs(z1)>=z_alpha:\n",
    "    print('有意水準5%の両側検定によって帰無仮説H0は棄却される')\n",
    "else:\n",
    "    print('有意水準5%の両側検定によって帰無仮説H0は棄却されない（採択される）')"
   ]
  },
  {
   "cell_type": "code",
   "execution_count": 81,
   "metadata": {},
   "outputs": [
    {
     "data": {
      "text/plain": [
       "2.575829303548901"
      ]
     },
     "metadata": {},
     "output_type": "display_data"
    }
   ],
   "source": [
    "z_alpha=norm.isf(q = 0.005)\n",
    "display(z_alpha)"
   ]
  },
  {
   "cell_type": "code",
   "execution_count": 82,
   "metadata": {},
   "outputs": [
    {
     "name": "stdout",
     "output_type": "stream",
     "text": [
      "有意水準5%の両側検定によって帰無仮説H0は棄却されない（採択される）\n"
     ]
    }
   ],
   "source": [
    "if abs(z1)>=z_alpha:\n",
    "    print('有意水準5%の両側検定によって帰無仮説H0は棄却される')\n",
    "else:\n",
    "    print('有意水準5%の両側検定によって帰無仮説H0は棄却されない（採択される）')"
   ]
  },
  {
   "cell_type": "code",
   "execution_count": 83,
   "metadata": {},
   "outputs": [
    {
     "data": {
      "text/plain": [
       "0.041226833337163704"
      ]
     },
     "execution_count": 83,
     "metadata": {},
     "output_type": "execute_result"
    }
   ],
   "source": [
    "Pval=(1-norm.cdf(x =z1))*2\n",
    "Pval"
   ]
  },
  {
   "cell_type": "markdown",
   "metadata": {},
   "source": [
    "### 例9.4"
   ]
  },
  {
   "cell_type": "code",
   "execution_count": 32,
   "metadata": {},
   "outputs": [
    {
     "data": {
      "text/plain": [
       "1.475596230592276"
      ]
     },
     "execution_count": 32,
     "metadata": {},
     "output_type": "execute_result"
    }
   ],
   "source": [
    "t1=(24.5-24)/(0.83/math.sqrt(6))\n",
    "t1\n"
   ]
  },
  {
   "cell_type": "code",
   "execution_count": 36,
   "metadata": {},
   "outputs": [
    {
     "data": {
      "text/plain": [
       "0.3794643728945254"
      ]
     },
     "execution_count": 36,
     "metadata": {},
     "output_type": "execute_result"
    }
   ],
   "source": [
    "from scipy.stats import t\n",
    "t.pdf(x = 0, df = 5)"
   ]
  },
  {
   "cell_type": "code",
   "execution_count": 84,
   "metadata": {},
   "outputs": [
    {
     "data": {
      "text/plain": [
       "2.57058183661474"
      ]
     },
     "metadata": {},
     "output_type": "display_data"
    }
   ],
   "source": [
    "t6=t.isf(q = 0.025, df = 5)\n",
    "display(t6)"
   ]
  },
  {
   "cell_type": "code",
   "execution_count": 85,
   "metadata": {},
   "outputs": [
    {
     "name": "stdout",
     "output_type": "stream",
     "text": [
      "有意水準5%の両側検定によって帰無仮説H0は棄却されない（採択される）\n"
     ]
    }
   ],
   "source": [
    "if abs(t1)>=t6:\n",
    "    print('有意水準5%の両側検定によって帰無仮説H0は棄却される')\n",
    "else:\n",
    "    print('有意水準5%の両側検定によって帰無仮説H0は棄却されない（採択される）')"
   ]
  },
  {
   "cell_type": "code",
   "execution_count": 45,
   "metadata": {},
   "outputs": [
    {
     "data": {
      "text/plain": [
       "0.20007386122114346"
      ]
     },
     "execution_count": 45,
     "metadata": {},
     "output_type": "execute_result"
    }
   ],
   "source": [
    "Pval=(1-t.cdf(x =t1, df = 5))*2\n",
    "Pval"
   ]
  },
  {
   "cell_type": "markdown",
   "metadata": {},
   "source": [
    "### 例9.5"
   ]
  },
  {
   "cell_type": "code",
   "execution_count": 128,
   "metadata": {},
   "outputs": [],
   "source": [
    "# https://rinsaka.com/python/statistics/03-student-t.html"
   ]
  },
  {
   "cell_type": "code",
   "execution_count": 54,
   "metadata": {},
   "outputs": [],
   "source": [
    "sigma=2.7\n",
    "xhat=27.1\n",
    "n=10"
   ]
  },
  {
   "cell_type": "code",
   "execution_count": 47,
   "metadata": {},
   "outputs": [
    {
     "data": {
      "text/plain": [
       "2.928034870526277"
      ]
     },
     "execution_count": 47,
     "metadata": {},
     "output_type": "execute_result"
    }
   ],
   "source": [
    "t2=(27.1-24.6)/(2.7/math.sqrt(10))\n",
    "t2"
   ]
  },
  {
   "cell_type": "code",
   "execution_count": 55,
   "metadata": {},
   "outputs": [
    {
     "data": {
      "text/plain": [
       "1.8331129326536337"
      ]
     },
     "metadata": {},
     "output_type": "display_data"
    }
   ],
   "source": [
    "t9=t.isf(q = 0.050, df = 9)\n",
    "display(t9)"
   ]
  },
  {
   "cell_type": "code",
   "execution_count": 61,
   "metadata": {},
   "outputs": [
    {
     "name": "stdout",
     "output_type": "stream",
     "text": [
      "有意水準5%の片側検定によってH0は帰無仮説棄却される\n"
     ]
    }
   ],
   "source": [
    "if abs(t2)>=t9:\n",
    "    print('有意水準5%の片側検定によってH0は帰無仮説棄却される')\n",
    "else:\n",
    "    print('有意水準5%の片側検定によってH0は帰無仮説棄却されない（採択される）')"
   ]
  },
  {
   "cell_type": "code",
   "execution_count": 58,
   "metadata": {},
   "outputs": [
    {
     "data": {
      "text/plain": [
       "2.8214379233005498"
      ]
     },
     "metadata": {},
     "output_type": "display_data"
    }
   ],
   "source": [
    "t9b=t.isf(q = 0.010, df = 9)\n",
    "display(t9b)"
   ]
  },
  {
   "cell_type": "code",
   "execution_count": 60,
   "metadata": {},
   "outputs": [
    {
     "name": "stdout",
     "output_type": "stream",
     "text": [
      "有意水準1%の片側検定によって帰無仮説H0は棄却される\n"
     ]
    }
   ],
   "source": [
    "if abs(t2)>=t9b:\n",
    "    print('有意水準1%の片側検定によって帰無仮説H0は棄却される')\n",
    "else:\n",
    "    print('有意水準1%の片側検定によって帰無仮説H0は棄却されない（採択される）')"
   ]
  },
  {
   "cell_type": "markdown",
   "metadata": {},
   "source": [
    "### 例9.7"
   ]
  },
  {
   "cell_type": "code",
   "execution_count": 62,
   "metadata": {},
   "outputs": [
    {
     "data": {
      "text/plain": [
       "-2.3696682464454972"
      ]
     },
     "execution_count": 62,
     "metadata": {},
     "output_type": "execute_result"
    }
   ],
   "source": [
    "z3=(0.45-0.5)/(0.0211)\n",
    "z3"
   ]
  },
  {
   "cell_type": "code",
   "execution_count": 64,
   "metadata": {},
   "outputs": [
    {
     "data": {
      "text/plain": [
       "1.9599639845400545"
      ]
     },
     "metadata": {},
     "output_type": "display_data"
    },
    {
     "name": "stdout",
     "output_type": "stream",
     "text": [
      "有意水準5%の両側検定によって帰無仮説H0は棄却される\n"
     ]
    }
   ],
   "source": [
    "z_alpha=norm.isf(q = 0.025)\n",
    "display(z_alpha)\n",
    "\n",
    "if abs(z3)>=z_alpha:\n",
    "    print('有意水準5%の両側検定によって帰無仮説H0は棄却される')\n",
    "else:\n",
    "    print('有意水準5%の両側検定によって帰無仮説H0は棄却されない（採択される）')"
   ]
  },
  {
   "cell_type": "code",
   "execution_count": 65,
   "metadata": {},
   "outputs": [
    {
     "data": {
      "text/plain": [
       "2.575829303548901"
      ]
     },
     "metadata": {},
     "output_type": "display_data"
    },
    {
     "name": "stdout",
     "output_type": "stream",
     "text": [
      "有意水準5%の両側検定によって帰無仮説H0は棄却されない（採択される）\n"
     ]
    }
   ],
   "source": [
    "z_alpha=norm.isf(q = 0.005)\n",
    "display(z_alpha)\n",
    "\n",
    "if abs(z3)>=z_alpha:\n",
    "    print('有意水準5%の両側検定によって帰無仮説H0は棄却される')\n",
    "else:\n",
    "    print('有意水準5%の両側検定によって帰無仮説H0は棄却されない（採択される）')"
   ]
  },
  {
   "cell_type": "code",
   "execution_count": 67,
   "metadata": {},
   "outputs": [
    {
     "data": {
      "text/plain": [
       "0.017804052581261037"
      ]
     },
     "execution_count": 67,
     "metadata": {},
     "output_type": "execute_result"
    }
   ],
   "source": [
    "Pval=(norm.cdf(x =z3))*2\n",
    "Pval"
   ]
  },
  {
   "cell_type": "markdown",
   "metadata": {},
   "source": [
    "### 問題*"
   ]
  },
  {
   "cell_type": "code",
   "execution_count": null,
   "metadata": {},
   "outputs": [],
   "source": []
  },
  {
   "cell_type": "markdown",
   "metadata": {},
   "source": [
    "### 問題*"
   ]
  },
  {
   "cell_type": "code",
   "execution_count": null,
   "metadata": {},
   "outputs": [],
   "source": []
  },
  {
   "cell_type": "markdown",
   "metadata": {},
   "source": [
    "### 問題*"
   ]
  },
  {
   "cell_type": "code",
   "execution_count": null,
   "metadata": {},
   "outputs": [],
   "source": []
  },
  {
   "cell_type": "code",
   "execution_count": null,
   "metadata": {},
   "outputs": [],
   "source": []
  },
  {
   "cell_type": "markdown",
   "metadata": {},
   "source": [
    "### 問題*"
   ]
  },
  {
   "cell_type": "code",
   "execution_count": null,
   "metadata": {},
   "outputs": [],
   "source": []
  },
  {
   "cell_type": "markdown",
   "metadata": {},
   "source": [
    "### その他"
   ]
  },
  {
   "cell_type": "code",
   "execution_count": null,
   "metadata": {},
   "outputs": [],
   "source": []
  }
 ],
 "metadata": {
  "colab": {
   "provenance": []
  },
  "kernelspec": {
   "display_name": "Python 3 (ipykernel)",
   "language": "python",
   "name": "python3"
  },
  "language_info": {
   "codemirror_mode": {
    "name": "ipython",
    "version": 3
   },
   "file_extension": ".py",
   "mimetype": "text/x-python",
   "name": "python",
   "nbconvert_exporter": "python",
   "pygments_lexer": "ipython3",
   "version": "3.9.18"
  }
 },
 "nbformat": 4,
 "nbformat_minor": 1
}

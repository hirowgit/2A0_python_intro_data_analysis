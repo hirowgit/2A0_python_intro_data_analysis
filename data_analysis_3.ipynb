{
 "cells": [
  {
   "cell_type": "markdown",
   "metadata": {
    "id": "qYFksbFAYbKl"
   },
   "source": [
    "# データ分析入門"
   ]
  },
  {
   "cell_type": "markdown",
   "metadata": {
    "id": "moLKePWqYfwS"
   },
   "source": [
    "## 第３章 確率の初歩"
   ]
  },
  {
   "cell_type": "markdown",
   "metadata": {
    "id": "vE0IVMbdYlzt"
   },
   "source": [
    "### パッケージ読み込み"
   ]
  },
  {
   "cell_type": "code",
   "execution_count": 1,
   "metadata": {
    "colab": {
     "base_uri": "https://localhost:8080/"
    },
    "id": "bh89DFF2Ylj2",
    "outputId": "c45d373f-bcef-420d-ae06-987132fe9f2a"
   },
   "outputs": [],
   "source": [
    "# !pip install japanize_matplotlib\n",
    "# !pip install sympy\n",
    "\n",
    "%matplotlib inline\n",
    "import japanize_matplotlib\n",
    "from matplotlib import pyplot as plt\n",
    "\n",
    "import pandas as pd\n",
    "from pathlib import Path\n",
    "import numpy as np\n",
    "\n",
    "import sympy as sy\n"
   ]
  },
  {
   "cell_type": "markdown",
   "metadata": {
    "id": "GfidQD4lZhAc"
   },
   "source": [
    "### 確率の計算 (loop)"
   ]
  },
  {
   "cell_type": "code",
   "execution_count": 4,
   "metadata": {},
   "outputs": [
    {
     "data": {
      "text/plain": [
       "(False, True)"
      ]
     },
     "execution_count": 4,
     "metadata": {},
     "output_type": "execute_result"
    }
   ],
   "source": [
    "(1 % 2) ==0,(2 % 2) ==0"
   ]
  },
  {
   "cell_type": "code",
   "execution_count": 5,
   "metadata": {},
   "outputs": [
    {
     "data": {
      "text/plain": [
       "(True, False)"
      ]
     },
     "execution_count": 5,
     "metadata": {},
     "output_type": "execute_result"
    }
   ],
   "source": [
    "(1 % 2) !=0,(2 % 2) !=0"
   ]
  },
  {
   "cell_type": "code",
   "execution_count": 31,
   "metadata": {},
   "outputs": [
    {
     "data": {
      "text/plain": [
       "0.3333333333333333"
      ]
     },
     "execution_count": 31,
     "metadata": {},
     "output_type": "execute_result"
    }
   ],
   "source": [
    "1/3"
   ]
  },
  {
   "cell_type": "code",
   "execution_count": 10,
   "metadata": {},
   "outputs": [
    {
     "data": {
      "text/latex": [
       "$\\displaystyle \\frac{1}{3}$"
      ],
      "text/plain": [
       "1/3"
      ]
     },
     "execution_count": 10,
     "metadata": {},
     "output_type": "execute_result"
    }
   ],
   "source": [
    "sy.Rational(1,3)"
   ]
  },
  {
   "cell_type": "code",
   "execution_count": 11,
   "metadata": {},
   "outputs": [
    {
     "data": {
      "text/latex": [
       "$\\displaystyle \\frac{1}{2}$"
      ],
      "text/plain": [
       "1/2"
      ]
     },
     "execution_count": 11,
     "metadata": {},
     "output_type": "execute_result"
    }
   ],
   "source": [
    "sy.Rational(2,4)"
   ]
  },
  {
   "cell_type": "code",
   "execution_count": 30,
   "metadata": {
    "id": "KF6084KmYYJM"
   },
   "outputs": [
    {
     "name": "stdout",
     "output_type": "stream",
     "text": [
      "[1, 2, 3]\n",
      "合計が偶数である確率は 5/9\n",
      "合計が奇数である確率は 4/9\n",
      "合計が2である確率は      1/9\n"
     ]
    }
   ],
   "source": [
    "r_2=0\n",
    "r_even=0\n",
    "r_odd=0\n",
    "totalN=0\n",
    "print(list(range(1,4)))\n",
    "\n",
    "for i in range(1,4):\n",
    "    for j in range(1,4):\n",
    "        totalN=totalN+1\n",
    "        if ((i+j) %2)==0:\n",
    "            r_even=r_even+1\n",
    "        else:\n",
    "            r_odd=r_odd+1\n",
    "        if (i+j)==2:\n",
    "            r_2=r_2+1\n",
    "        \n",
    "print(f'合計が偶数である確率は {sy.Rational(r_even,totalN)}')\n",
    "print(f'合計が奇数である確率は {sy.Rational(r_odd,totalN)}')\n",
    "print(f'合計が2である確率は      {sy.Rational(r_2,totalN)}')"
   ]
  },
  {
   "cell_type": "code",
   "execution_count": 32,
   "metadata": {},
   "outputs": [
    {
     "data": {
      "text/plain": [
       "[0, 1, 2, 3]"
      ]
     },
     "execution_count": 32,
     "metadata": {},
     "output_type": "execute_result"
    }
   ],
   "source": [
    "list(range(4))"
   ]
  },
  {
   "cell_type": "code",
   "execution_count": 26,
   "metadata": {},
   "outputs": [
    {
     "name": "stdout",
     "output_type": "stream",
     "text": [
      "[1, 2, 3]\n"
     ]
    }
   ],
   "source": [
    "print(list(range(1,4)))"
   ]
  },
  {
   "cell_type": "markdown",
   "metadata": {
    "id": "14kFrY44xFLR"
   },
   "source": [
    "### 確率の計算 (numpy)"
   ]
  },
  {
   "cell_type": "code",
   "execution_count": 32,
   "metadata": {
    "colab": {
     "base_uri": "https://localhost:8080/"
    },
    "id": "akp3oMwUZsvI",
    "outputId": "471ddc69-2764-4a17-f68c-d81b5cd6c277"
   },
   "outputs": [
    {
     "data": {
      "text/plain": [
       "array([1, 2, 3])"
      ]
     },
     "execution_count": 32,
     "metadata": {},
     "output_type": "execute_result"
    }
   ],
   "source": [
    "np.arange(1,4)"
   ]
  },
  {
   "cell_type": "code",
   "execution_count": 5,
   "metadata": {
    "id": "j9dO-Ky7ZobN"
   },
   "outputs": [
    {
     "data": {
      "text/plain": [
       "[1, 2, 3, 1, 2, 3, 1, 2, 3]"
      ]
     },
     "execution_count": 5,
     "metadata": {},
     "output_type": "execute_result"
    }
   ],
   "source": [
    "list(range(1,4))*3"
   ]
  },
  {
   "cell_type": "code",
   "execution_count": 12,
   "metadata": {},
   "outputs": [
    {
     "data": {
      "text/plain": [
       "[1, 1, 1, 2, 2, 2, 3, 3, 3]"
      ]
     },
     "execution_count": 12,
     "metadata": {},
     "output_type": "execute_result"
    }
   ],
   "source": [
    "sum([[i]*3 for i in range(1,4)],[])"
   ]
  },
  {
   "cell_type": "code",
   "execution_count": 13,
   "metadata": {},
   "outputs": [
    {
     "data": {
      "text/plain": [
       "array([[1, 1],\n",
       "       [2, 2]])"
      ]
     },
     "execution_count": 13,
     "metadata": {},
     "output_type": "execute_result"
    }
   ],
   "source": [
    "np.stack([[1,1],[2,2]])"
   ]
  },
  {
   "cell_type": "code",
   "execution_count": 2,
   "metadata": {},
   "outputs": [
    {
     "name": "stdout",
     "output_type": "stream",
     "text": [
      "[[1 2 3 1 2 3 1 2 3]\n",
      " [1 1 1 2 2 2 3 3 3]]\n",
      "[0],[0 2 4 6 8],[1 3 5 7]\n",
      "合計が偶数である確率は 5/9\n",
      "合計が奇数である確率は 4/9\n",
      "合計が2である確率は      1/9\n"
     ]
    }
   ],
   "source": [
    "L1=list(range(1,4))*3\n",
    "L2=sum([[i]*3 for i in range(1,4)],[])\n",
    "L3=np.stack([L1,L2])\n",
    "print(L3)\n",
    "\n",
    "print(f'{np.where(sum(L3)==2)[0]},{np.where((sum(L3) % 2)==0)[0]},{np.where((sum(L3) % 2)!=0)[0]}')\n",
    "\n",
    "r_2=len(np.where(sum(L3)==2)[0])\n",
    "r_even=len(np.where((sum(L3) % 2)==0)[0])\n",
    "r_odd=len(np.where((sum(L3) % 2)!=0)[0])\n",
    "totalN=len(L1)\n",
    "\n",
    "print(f'合計が偶数である確率は {sy.Rational(r_even,totalN)}')\n",
    "print(f'合計が奇数である確率は {sy.Rational(r_odd,totalN)}')\n",
    "print(f'合計が2である確率は      {sy.Rational(r_2,totalN)}')"
   ]
  },
  {
   "cell_type": "code",
   "execution_count": 30,
   "metadata": {},
   "outputs": [
    {
     "data": {
      "text/plain": [
       "(array([0, 2, 4, 6, 8]),)"
      ]
     },
     "execution_count": 30,
     "metadata": {},
     "output_type": "execute_result"
    }
   ],
   "source": [
    "(np.where((sum(L3) % 2)==0))"
   ]
  },
  {
   "cell_type": "code",
   "execution_count": 7,
   "metadata": {},
   "outputs": [
    {
     "data": {
      "text/plain": [
       "(array([0]),)"
      ]
     },
     "execution_count": 7,
     "metadata": {},
     "output_type": "execute_result"
    }
   ],
   "source": [
    "np.where(sum(L3)==2)"
   ]
  },
  {
   "cell_type": "code",
   "execution_count": 4,
   "metadata": {},
   "outputs": [
    {
     "data": {
      "text/plain": [
       "1"
      ]
     },
     "execution_count": 4,
     "metadata": {},
     "output_type": "execute_result"
    }
   ],
   "source": [
    "len(np.where(sum(L3)==2))"
   ]
  }
 ],
 "metadata": {
  "colab": {
   "provenance": []
  },
  "kernelspec": {
   "display_name": "Python 3 (ipykernel)",
   "language": "python",
   "name": "python3"
  },
  "language_info": {
   "codemirror_mode": {
    "name": "ipython",
    "version": 3
   },
   "file_extension": ".py",
   "mimetype": "text/x-python",
   "name": "python",
   "nbconvert_exporter": "python",
   "pygments_lexer": "ipython3",
   "version": "3.9.18"
  }
 },
 "nbformat": 4,
 "nbformat_minor": 1
}

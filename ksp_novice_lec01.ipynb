{
 "cells": [
  {
   "cell_type": "code",
   "execution_count": null,
   "id": "9a959537",
   "metadata": {},
   "outputs": [],
   "source": [
    "## Python basics for novice data scientists, supported by Wagatsuma Lab@Kyutech \n",
    "#\n",
    "# The MIT License (MIT): Copyright (c) 2020 Hiroaki Wagatsuma and Wagatsuma Lab@Kyutech\n",
    "# \n",
    "# Permission is hereby granted, free of charge, to any person obtaining a copy of this software and associated documentation files (the \"Software\"), to deal in the Software without restriction, including without limitation the rights to use, copy, modify, merge, publish, distribute, sublicense, and/or sell copies of the Software, and to permit persons to whom the Software is furnished to do so, subject to the following conditions:\n",
    "# The above copyright notice and this permission notice shall be included in all copies or substantial portions of the Software.\n",
    "# THE SOFTWARE IS PROVIDED \"AS IS\", WITHOUT WARRANTY OF ANY KIND, EXPRESS OR IMPLIED, INCLUDING BUT NOT LIMITED TO THE WARRANTIES OF MERCHANTABILITY, FITNESS FOR A PARTICULAR PURPOSE AND NONINFRINGEMENT. IN NO EVENT SHALL THE AUTHORS OR COPYRIGHT HOLDERS BE LIABLE FOR ANY CLAIM, DAMAGES OR OTHER LIABILITY, WHETHER IN AN ACTION OF CONTRACT, TORT OR OTHERWISE, ARISING FROM, OUT OF OR IN CONNECTION WITH THE SOFTWARE OR THE USE OR OTHER DEALINGS IN THE SOFTWARE. */\n",
    "#\n",
    "# # @Time    : 2020-6-18 \n",
    "# # @Author  : Hiroaki Wagatsuma\n",
    "# # @Site    : https://github.com/hirowgit/2A_python_basic_course\n",
    "# # @IDE     : Python 3.10.9 (main, Dec 15 2022, 18:18:30) [Clang 14.0.0 (clang-1400.0.29.202)] on darwin\n",
    "# # @File    : ksp_novice_lec01.py "
   ]
  },
  {
   "cell_type": "code",
   "execution_count": 5,
   "id": "acfa494a",
   "metadata": {},
   "outputs": [],
   "source": [
    "import numpy as np\n",
    "import numpy.matlib\n",
    "import os\n",
    "import sys\n",
    "import codecs\n",
    "import matplotlib.pyplot as plt\n",
    "import pandas as pd\n",
    "from openpyxl import Workbook\n",
    "import pprint"
   ]
  },
  {
   "cell_type": "markdown",
   "id": "fc899347",
   "metadata": {},
   "source": [
    "## Example 1"
   ]
  },
  {
   "cell_type": "code",
   "execution_count": 6,
   "id": "d976e539",
   "metadata": {},
   "outputs": [],
   "source": [
    "a=[0,1,2,3,4,5,6,7,8,9]"
   ]
  },
  {
   "cell_type": "code",
   "execution_count": 7,
   "id": "da73473d",
   "metadata": {},
   "outputs": [
    {
     "data": {
      "text/plain": [
       "[0, 1, 2, 3, 4, 5, 6, 7, 8, 9]"
      ]
     },
     "metadata": {},
     "output_type": "display_data"
    }
   ],
   "source": [
    "display(a)"
   ]
  },
  {
   "cell_type": "code",
   "execution_count": 8,
   "id": "9f4767b4",
   "metadata": {},
   "outputs": [
    {
     "name": "stdout",
     "output_type": "stream",
     "text": [
      "[0, 1, 2, 3, 4, 5, 6, 7, 8, 9]\n"
     ]
    }
   ],
   "source": [
    "print(a)"
   ]
  },
  {
   "cell_type": "code",
   "execution_count": 9,
   "id": "3ba4cd36",
   "metadata": {},
   "outputs": [],
   "source": [
    "a_np=np.array(a)"
   ]
  },
  {
   "cell_type": "code",
   "execution_count": 7,
   "id": "a6c15a67",
   "metadata": {},
   "outputs": [
    {
     "data": {
      "text/plain": [
       "array([0, 1, 2, 3, 4, 5, 6, 7, 8, 9])"
      ]
     },
     "metadata": {},
     "output_type": "display_data"
    }
   ],
   "source": [
    "display(a_np)"
   ]
  },
  {
   "cell_type": "code",
   "execution_count": 8,
   "id": "9a228044",
   "metadata": {},
   "outputs": [
    {
     "name": "stdout",
     "output_type": "stream",
     "text": [
      "[0 1 2 3 4 5 6 7 8 9]\n"
     ]
    }
   ],
   "source": [
    "print(a_np)"
   ]
  },
  {
   "cell_type": "code",
   "execution_count": 10,
   "id": "6e6ac3dd",
   "metadata": {},
   "outputs": [
    {
     "data": {
      "text/plain": [
       "45"
      ]
     },
     "execution_count": 10,
     "metadata": {},
     "output_type": "execute_result"
    }
   ],
   "source": [
    "np.sum(a_np)"
   ]
  },
  {
   "cell_type": "code",
   "execution_count": 27,
   "id": "00c1f5ab",
   "metadata": {},
   "outputs": [
    {
     "data": {
      "text/plain": [
       "45"
      ]
     },
     "execution_count": 27,
     "metadata": {},
     "output_type": "execute_result"
    }
   ],
   "source": [
    "sum(a)"
   ]
  },
  {
   "cell_type": "markdown",
   "id": "0a042bb0",
   "metadata": {},
   "source": [
    "## Example 2"
   ]
  },
  {
   "cell_type": "code",
   "execution_count": 11,
   "id": "80bb0963",
   "metadata": {},
   "outputs": [],
   "source": [
    "A=[[1,4,7],[2,5,8],[3,6,9]]"
   ]
  },
  {
   "cell_type": "code",
   "execution_count": 13,
   "id": "e08f4956",
   "metadata": {},
   "outputs": [
    {
     "name": "stdout",
     "output_type": "stream",
     "text": [
      "[[1, 4, 7], [2, 5, 8], [3, 6, 9]]\n"
     ]
    }
   ],
   "source": [
    "print(A)"
   ]
  },
  {
   "cell_type": "code",
   "execution_count": 14,
   "id": "1b199f14",
   "metadata": {},
   "outputs": [
    {
     "data": {
      "text/plain": [
       "12"
      ]
     },
     "execution_count": 14,
     "metadata": {},
     "output_type": "execute_result"
    }
   ],
   "source": [
    "sum(A[0])"
   ]
  },
  {
   "cell_type": "code",
   "execution_count": 23,
   "id": "1c106acc",
   "metadata": {},
   "outputs": [],
   "source": [
    "A=np.array([[1,4,7],[2,5,8],[3,6,9]])"
   ]
  },
  {
   "cell_type": "code",
   "execution_count": 22,
   "id": "5d3025f6",
   "metadata": {},
   "outputs": [
    {
     "name": "stdout",
     "output_type": "stream",
     "text": [
      "[[1 4 7]\n",
      " [2 5 8]\n",
      " [3 6 9]]\n"
     ]
    }
   ],
   "source": [
    "print(A_np)"
   ]
  },
  {
   "cell_type": "code",
   "execution_count": 24,
   "id": "125b2e5b",
   "metadata": {},
   "outputs": [
    {
     "data": {
      "text/plain": [
       "12"
      ]
     },
     "execution_count": 24,
     "metadata": {},
     "output_type": "execute_result"
    }
   ],
   "source": [
    "np.sum(A[0,:])"
   ]
  },
  {
   "cell_type": "code",
   "execution_count": 25,
   "id": "a209c9b6",
   "metadata": {},
   "outputs": [
    {
     "data": {
      "text/plain": [
       "6"
      ]
     },
     "execution_count": 25,
     "metadata": {},
     "output_type": "execute_result"
    }
   ],
   "source": [
    "np.sum(A[:,0])"
   ]
  },
  {
   "cell_type": "code",
   "execution_count": 26,
   "id": "95278020",
   "metadata": {},
   "outputs": [
    {
     "data": {
      "text/plain": [
       "45"
      ]
     },
     "execution_count": 26,
     "metadata": {},
     "output_type": "execute_result"
    }
   ],
   "source": [
    "np.sum(A)"
   ]
  },
  {
   "cell_type": "markdown",
   "id": "3f741cdb",
   "metadata": {},
   "source": [
    "## Example 3"
   ]
  },
  {
   "cell_type": "code",
   "execution_count": 60,
   "id": "91a3aff7",
   "metadata": {},
   "outputs": [
    {
     "data": {
      "text/plain": [
       "array([[6, 1],\n",
       "       [2, 2]])"
      ]
     },
     "execution_count": 60,
     "metadata": {},
     "output_type": "execute_result"
    }
   ],
   "source": [
    "np.random.randint(1, 7, (2,2))"
   ]
  },
  {
   "cell_type": "code",
   "execution_count": 61,
   "id": "f9768fd0",
   "metadata": {},
   "outputs": [
    {
     "data": {
      "text/plain": [
       "array([[2],\n",
       "       [4],\n",
       "       [3],\n",
       "       [8],\n",
       "       [9],\n",
       "       [9],\n",
       "       [5],\n",
       "       [5],\n",
       "       [2],\n",
       "       [7],\n",
       "       [8],\n",
       "       [9],\n",
       "       [7],\n",
       "       [4],\n",
       "       [9],\n",
       "       [7],\n",
       "       [1],\n",
       "       [3]])"
      ]
     },
     "metadata": {},
     "output_type": "display_data"
    }
   ],
   "source": [
    "index=np.random.randint(1, 10, (18,1))\n",
    "display(index)"
   ]
  },
  {
   "cell_type": "code",
   "execution_count": 65,
   "id": "b6a86818",
   "metadata": {},
   "outputs": [
    {
     "data": {
      "text/plain": [
       "array([[98],\n",
       "       [80],\n",
       "       [88],\n",
       "       [37],\n",
       "       [93],\n",
       "       [99],\n",
       "       [72],\n",
       "       [ 6],\n",
       "       [88],\n",
       "       [86],\n",
       "       [25],\n",
       "       [25],\n",
       "       [57],\n",
       "       [59],\n",
       "       [88],\n",
       "       [56],\n",
       "       [49],\n",
       "       [39]])"
      ]
     },
     "metadata": {},
     "output_type": "display_data"
    }
   ],
   "source": [
    "score=np.random.randint(0, 100, (18,1))\n",
    "display(score)"
   ]
  },
  {
   "cell_type": "code",
   "execution_count": 66,
   "id": "f958e276",
   "metadata": {},
   "outputs": [
    {
     "data": {
      "text/plain": [
       "array([[ 2, 98],\n",
       "       [ 4, 80],\n",
       "       [ 3, 88],\n",
       "       [ 8, 37],\n",
       "       [ 9, 93],\n",
       "       [ 9, 99],\n",
       "       [ 5, 72],\n",
       "       [ 5,  6],\n",
       "       [ 2, 88],\n",
       "       [ 7, 86],\n",
       "       [ 8, 25],\n",
       "       [ 9, 25],\n",
       "       [ 7, 57],\n",
       "       [ 4, 59],\n",
       "       [ 9, 88],\n",
       "       [ 7, 56],\n",
       "       [ 1, 49],\n",
       "       [ 3, 39]])"
      ]
     },
     "metadata": {},
     "output_type": "display_data"
    }
   ],
   "source": [
    "B=np.hstack([index,score])\n",
    "display(B)"
   ]
  },
  {
   "cell_type": "code",
   "execution_count": 67,
   "id": "f567c749",
   "metadata": {},
   "outputs": [
    {
     "data": {
      "text/plain": [
       "102"
      ]
     },
     "metadata": {},
     "output_type": "display_data"
    },
    {
     "data": {
      "text/plain": [
       "1145"
      ]
     },
     "metadata": {},
     "output_type": "display_data"
    }
   ],
   "source": [
    "index_sum=np.sum(B[:,0])\n",
    "score_sum=np.sum(B[:,1])\n",
    "display(index_sum)\n",
    "display(score_sum)"
   ]
  },
  {
   "cell_type": "code",
   "execution_count": 68,
   "id": "fa0c7c15",
   "metadata": {},
   "outputs": [
    {
     "data": {
      "text/plain": [
       "array([[2],\n",
       "       [4],\n",
       "       [3],\n",
       "       [8],\n",
       "       [9],\n",
       "       [9],\n",
       "       [5],\n",
       "       [5],\n",
       "       [2],\n",
       "       [7],\n",
       "       [8],\n",
       "       [9],\n",
       "       [7],\n",
       "       [4],\n",
       "       [9],\n",
       "       [7],\n",
       "       [1],\n",
       "       [3]])"
      ]
     },
     "execution_count": 68,
     "metadata": {},
     "output_type": "execute_result"
    }
   ],
   "source": [
    "index"
   ]
  },
  {
   "cell_type": "code",
   "execution_count": 70,
   "id": "d2f22521",
   "metadata": {},
   "outputs": [
    {
     "data": {
      "text/plain": [
       "array([ 0,  1,  2,  8, 13, 16, 17])"
      ]
     },
     "execution_count": 70,
     "metadata": {},
     "output_type": "execute_result"
    }
   ],
   "source": [
    "index1=np.where(index<5)[0]\n",
    "index1"
   ]
  },
  {
   "cell_type": "code",
   "execution_count": 72,
   "id": "d7936769",
   "metadata": {},
   "outputs": [
    {
     "data": {
      "text/plain": [
       "array([[98],\n",
       "       [80],\n",
       "       [88],\n",
       "       [37],\n",
       "       [93],\n",
       "       [99],\n",
       "       [72],\n",
       "       [ 6],\n",
       "       [88],\n",
       "       [86],\n",
       "       [25],\n",
       "       [25],\n",
       "       [57],\n",
       "       [59],\n",
       "       [88],\n",
       "       [56],\n",
       "       [49],\n",
       "       [39]])"
      ]
     },
     "execution_count": 72,
     "metadata": {},
     "output_type": "execute_result"
    }
   ],
   "source": [
    "score"
   ]
  },
  {
   "cell_type": "code",
   "execution_count": 71,
   "id": "e83a4c6c",
   "metadata": {},
   "outputs": [
    {
     "data": {
      "text/plain": [
       "array([[98],\n",
       "       [80],\n",
       "       [88],\n",
       "       [88],\n",
       "       [59],\n",
       "       [49],\n",
       "       [39]])"
      ]
     },
     "execution_count": 71,
     "metadata": {},
     "output_type": "execute_result"
    }
   ],
   "source": [
    "score[index1]"
   ]
  },
  {
   "cell_type": "code",
   "execution_count": 73,
   "id": "fb66bd30",
   "metadata": {},
   "outputs": [
    {
     "data": {
      "text/plain": [
       "array([ 0,  1,  2,  8, 13, 16, 17])"
      ]
     },
     "metadata": {},
     "output_type": "display_data"
    },
    {
     "data": {
      "text/plain": [
       "array([[98],\n",
       "       [80],\n",
       "       [88],\n",
       "       [88],\n",
       "       [59],\n",
       "       [49],\n",
       "       [39]])"
      ]
     },
     "metadata": {},
     "output_type": "display_data"
    },
    {
     "data": {
      "text/plain": [
       "501"
      ]
     },
     "metadata": {},
     "output_type": "display_data"
    }
   ],
   "source": [
    "index1=np.where(index<5)[0]\n",
    "display(index1)\n",
    "\n",
    "value_less_than_five=score[index1]\n",
    "display(value_less_than_five)\n",
    "sum_value1=np.sum(value_less_than_five)\n",
    "display(sum_value1)\n"
   ]
  },
  {
   "cell_type": "code",
   "execution_count": 74,
   "id": "0c33f79d",
   "metadata": {},
   "outputs": [
    {
     "data": {
      "text/plain": [
       "array([ 3,  4,  5,  6,  7,  9, 10, 11, 12, 14, 15])"
      ]
     },
     "metadata": {},
     "output_type": "display_data"
    },
    {
     "data": {
      "text/plain": [
       "array([[37],\n",
       "       [93],\n",
       "       [99],\n",
       "       [72],\n",
       "       [ 6],\n",
       "       [86],\n",
       "       [25],\n",
       "       [25],\n",
       "       [57],\n",
       "       [88],\n",
       "       [56]])"
      ]
     },
     "metadata": {},
     "output_type": "display_data"
    },
    {
     "data": {
      "text/plain": [
       "644"
      ]
     },
     "metadata": {},
     "output_type": "display_data"
    }
   ],
   "source": [
    "index2=np.where(index>=5)[0]\n",
    "display(index2)\n",
    "value_five_or_more=score[index2]\n",
    "display(value_five_or_more)\n",
    "sum_value2=np.sum(value_five_or_more)\n",
    "display(sum_value2)"
   ]
  },
  {
   "cell_type": "code",
   "execution_count": 75,
   "id": "4a7f1d78",
   "metadata": {},
   "outputs": [
    {
     "data": {
      "text/plain": [
       "1145"
      ]
     },
     "metadata": {},
     "output_type": "display_data"
    }
   ],
   "source": [
    "sum_all=sum_value1+sum_value2\n",
    "display(sum_all)"
   ]
  },
  {
   "cell_type": "markdown",
   "id": "354d9e92",
   "metadata": {},
   "source": [
    "## ----------------- Summary-----------------"
   ]
  },
  {
   "cell_type": "code",
   "execution_count": 46,
   "id": "b3d6cb96",
   "metadata": {},
   "outputs": [
    {
     "data": {
      "text/plain": [
       "964"
      ]
     },
     "metadata": {},
     "output_type": "display_data"
    },
    {
     "data": {
      "text/plain": [
       "964"
      ]
     },
     "metadata": {},
     "output_type": "display_data"
    }
   ],
   "source": [
    "index=np.random.randint(1, 10, (18,1))\n",
    "score=np.random.randint(0, 100, (18,1))\n",
    "B=np.hstack([index,score])\n",
    "index_sum=np.sum(B[:,0])\n",
    "score_sum=np.sum(B[:,1])\n",
    "\n",
    "index1=np.where(index<5)[0]\n",
    "value_less_than_five=score[index1]\n",
    "sum_value1=np.sum(value_less_than_five)\n",
    "\n",
    "index2=np.where(index>=5)[0]\n",
    "value_five_or_more=score[index2]\n",
    "sum_value2=np.sum(value_five_or_more)\n",
    "\n",
    "sum_all=sum_value1+sum_value2\n",
    "\n",
    "display(score_sum)\n",
    "display(sum_all)"
   ]
  },
  {
   "cell_type": "markdown",
   "id": "9cd2edc6",
   "metadata": {},
   "source": [
    "## ----------------- Hints-----------------"
   ]
  },
  {
   "cell_type": "code",
   "execution_count": 53,
   "id": "93693be2",
   "metadata": {},
   "outputs": [],
   "source": [
    "A=[[1,4,7],[2,5,8],[3,6,9]]\n",
    "A_np=np.array(A)"
   ]
  },
  {
   "cell_type": "code",
   "execution_count": 52,
   "id": "4776ae76",
   "metadata": {},
   "outputs": [
    {
     "data": {
      "text/plain": [
       "15"
      ]
     },
     "execution_count": 52,
     "metadata": {},
     "output_type": "execute_result"
    }
   ],
   "source": [
    "A_np[0,0]+A_np[1,1]+A_np[2,2]"
   ]
  },
  {
   "cell_type": "code",
   "execution_count": 55,
   "id": "4dbccc21",
   "metadata": {},
   "outputs": [
    {
     "data": {
      "text/plain": [
       "array([ 6, 11])"
      ]
     },
     "metadata": {},
     "output_type": "display_data"
    }
   ],
   "source": [
    "index3=np.where(index==5)[0]\n",
    "display(index3)"
   ]
  },
  {
   "cell_type": "code",
   "execution_count": 58,
   "id": "c6fd286a",
   "metadata": {},
   "outputs": [
    {
     "data": {
      "text/plain": [
       "1"
      ]
     },
     "metadata": {},
     "output_type": "display_data"
    },
    {
     "data": {
      "text/plain": [
       "2"
      ]
     },
     "metadata": {},
     "output_type": "display_data"
    },
    {
     "data": {
      "text/plain": [
       "3"
      ]
     },
     "metadata": {},
     "output_type": "display_data"
    },
    {
     "data": {
      "text/plain": [
       "4"
      ]
     },
     "metadata": {},
     "output_type": "display_data"
    },
    {
     "data": {
      "text/plain": [
       "5"
      ]
     },
     "metadata": {},
     "output_type": "display_data"
    },
    {
     "data": {
      "text/plain": [
       "6"
      ]
     },
     "metadata": {},
     "output_type": "display_data"
    },
    {
     "data": {
      "text/plain": [
       "7"
      ]
     },
     "metadata": {},
     "output_type": "display_data"
    },
    {
     "data": {
      "text/plain": [
       "8"
      ]
     },
     "metadata": {},
     "output_type": "display_data"
    },
    {
     "data": {
      "text/plain": [
       "9"
      ]
     },
     "metadata": {},
     "output_type": "display_data"
    },
    {
     "data": {
      "text/plain": [
       "10"
      ]
     },
     "metadata": {},
     "output_type": "display_data"
    }
   ],
   "source": [
    "for i in range(10):\n",
    "    display(i+1)"
   ]
  },
  {
   "cell_type": "code",
   "execution_count": null,
   "id": "c12b954a",
   "metadata": {},
   "outputs": [],
   "source": []
  }
 ],
 "metadata": {
  "kernelspec": {
   "display_name": "Python 3 (ipykernel)",
   "language": "python",
   "name": "python3"
  },
  "language_info": {
   "codemirror_mode": {
    "name": "ipython",
    "version": 3
   },
   "file_extension": ".py",
   "mimetype": "text/x-python",
   "name": "python",
   "nbconvert_exporter": "python",
   "pygments_lexer": "ipython3",
   "version": "3.9.18"
  }
 },
 "nbformat": 4,
 "nbformat_minor": 5
}

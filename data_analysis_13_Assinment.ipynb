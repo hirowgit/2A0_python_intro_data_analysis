{
 "cells": [
  {
   "cell_type": "markdown",
   "metadata": {
    "id": "qYFksbFAYbKl"
   },
   "source": [
    "# データ分析入門"
   ]
  },
  {
   "attachments": {},
   "cell_type": "markdown",
   "metadata": {
    "id": "moLKePWqYfwS"
   },
   "source": [
    "# 第１１章　多変量データと確率ベクトル #13\n"
   ]
  },
  {
   "cell_type": "markdown",
   "metadata": {
    "id": "vE0IVMbdYlzt"
   },
   "source": [
    "### パッケージ読み込み"
   ]
  },
  {
   "cell_type": "code",
   "execution_count": 1,
   "metadata": {},
   "outputs": [],
   "source": [
    "# !pip install japanize_matplotlib"
   ]
  },
  {
   "cell_type": "code",
   "execution_count": 2,
   "metadata": {
    "colab": {
     "base_uri": "https://localhost:8080/"
    },
    "id": "bh89DFF2Ylj2",
    "outputId": "c45d373f-bcef-420d-ae06-987132fe9f2a"
   },
   "outputs": [],
   "source": [
    "# !pip install japanize_matplotlib\n",
    "# !pip install sympy\n",
    "\n",
    "%matplotlib inline\n",
    "import japanize_matplotlib\n",
    "from matplotlib import pyplot as plt\n",
    "\n",
    "import pandas as pd\n",
    "from pathlib import Path\n",
    "import math\n",
    "import numpy as np\n",
    "\n",
    "import sympy as sym\n"
   ]
  },
  {
   "cell_type": "markdown",
   "metadata": {
    "id": "GfidQD4lZhAc"
   },
   "source": [
    "### 正規分布の数値計算"
   ]
  },
  {
   "cell_type": "code",
   "execution_count": 3,
   "metadata": {},
   "outputs": [
    {
     "data": {
      "image/png": "[encoded data removed]",
      "text/plain": [
       "<Figure size 600x400 with 1 Axes>"
      ]
     },
     "metadata": {},
     "output_type": "display_data"
    }
   ],
   "source": [
    "# https://rinsaka.com/python/statistics/01-norm.html\n",
    "# 横軸用のnumpy配列を準備\n",
    "\n",
    "from scipy.stats import norm\n",
    "from scipy.stats import t\n",
    "\n",
    "x_step = 0.05\n",
    "x_min = -5\n",
    "x_max = x_step + 5\n",
    "x = np.arange(x_min, x_max, x_step)\n",
    " \n",
    "# 標準正規分布\n",
    "y = norm.pdf(x)\n",
    " \n",
    "# グラフを描く\n",
    "fig, ax = plt.subplots(1, 1, figsize=(6, 4))\n",
    "ax.plot(x, y)\n",
    "ax.set_xlim(-4.5, 4.5)\n",
    "ax.set_ylim(0, 0.45)\n",
    "ax.set_xticks(np.arange(-4, 5, 1))\n",
    "ax.set_yticks(np.arange(0.0, 0.5, 0.1))\n",
    "ax.grid()\n",
    "# plt.savefig('normal.png', dpi=300, facecolor='white')\n",
    "plt.show()"
   ]
  },
  {
   "cell_type": "code",
   "execution_count": 5,
   "metadata": {},
   "outputs": [],
   "source": [
    "# # http://y-okamoto-psy1949.la.coocan.jp/Python/misc/Bysn2VarNorm/\n",
    "# from mpl_toolkits.mplot3d import Axes3D\n",
    "# import matplotlib.pyplot as plt\n",
    "# import numpy as np\n",
    "# import math\n",
    "\n",
    "# class BiVarNorm:\n",
    "\n",
    "#     # \"\"\"\n",
    "\n",
    "#     #         Bivariate normal distribution\n",
    "\n",
    "#     # \"\"\"\n",
    "\n",
    "#     def __init__(self, rho):\n",
    "\n",
    "#         self.rho = rho\n",
    "\n",
    " \n",
    "\n",
    "#     def value(self, x, y):\n",
    "\n",
    "#         v = (x**2 + y**2 - 2 * self.rho * x * y) / (2.0 * (1.0 - self.rho**2))\n",
    "\n",
    "#         v = np.exp(-v) / ((2.0 * math.pi * (1.0 - self.rho**2)) ** 0.5)\n",
    "\n",
    "#         return v\n",
    "\n",
    "\n",
    "# while True:\n",
    "\n",
    "#     rho = float(input('rho = '))\n",
    "\n",
    "#     if math.fabs(rho) >= 1.0:\n",
    "\n",
    "#         break\n",
    "\n",
    "#     fig, ax = plt.subplots(1, 1, figsize=(6, 4))\n",
    "\n",
    "\n",
    "#     ax = Axes3D(fig)\n",
    "\n",
    "#     Xg = np.arange(-4.0, 4.0, 0.1)\n",
    "\n",
    "#     Yg = np.arange(-4.0, 4.0, 0.1)\n",
    "\n",
    "#     X, Y = np.meshgrid(Xg, Yg)\n",
    "\n",
    "#     bi_norm = BiVarNorm(rho)\n",
    "\n",
    " \n",
    "\n",
    "#     ax.plot_surface(X, Y, bi_norm.value(X, Y), rstride = 1, cstride = 1, cmap = plt.cm.coolwarm)\n",
    "\n",
    "\n",
    "#     plt.show()"
   ]
  },
  {
   "cell_type": "code",
   "execution_count": null,
   "metadata": {},
   "outputs": [],
   "source": [
    "# https://qiita.com/g-k/items/698c7f9e4a213d73197b\n",
    "import numpy as np\n",
    "import matplotlib.pyplot as plt\n",
    "from mpl_toolkits.mplot3d import axes3d\n",
    "from matplotlib import cm\n",
    "\n",
    "#関数に投入するデータを作成\n",
    "x = y = np.arange(-20, 20, 0.5)\n",
    "X, Y = np.meshgrid(x, y)\n",
    "\n",
    "z = np.c_[X.ravel(),Y.ravel()]\n",
    "\n",
    "#二次元正規分布の確率密度を返す関数\n",
    "def gaussian(x):\n",
    "    #分散共分散行列の行列式\n",
    "    det = np.linalg.det(sigma)\n",
    "    print(det)\n",
    "    #分散共分散行列の逆行列\n",
    "    inv = np.linalg.inv(sigma)\n",
    "    n = x.ndim\n",
    "    print(inv)\n",
    "    return np.exp(-np.diag((x - mu)@inv@(x - mu).T)/2.0) / (np.sqrt((2 * np.pi) ** n * det))\n",
    "\n",
    "#2変数の平均値を指定\n",
    "mu = np.array([0,0])\n",
    "#2変数の分散共分散行列を指定\n",
    "sigma = np.array([[1,0],[0,1]])\n",
    "\n",
    "Z = gaussian(z)\n",
    "shape = X.shape\n",
    "Z = Z.reshape(shape)\n",
    "\n",
    "#二次元正規分布をplot\n",
    "fig = plt.figure(figsize = (15, 15))\n",
    "ax = fig.add_subplot(111, projection='3d')\n",
    "\n",
    "ax.plot_surface(X, Y, Z, rstride=1, cstride=1, cmap=cm.coolwarm)\n",
    "plt.show()\n"
   ]
  },
  {
   "cell_type": "code",
   "execution_count": null,
   "metadata": {},
   "outputs": [],
   "source": [
    "#2変数の平均値を指定\n",
    "mu = np.array([3,1])\n",
    "#2変数の分散共分散行列を指定\n",
    "sigma = np.array([[10,5],[5,10]])\n",
    "\n",
    "Z = gaussian(z)\n",
    "shape = X.shape\n",
    "Z = Z.reshape(shape)\n",
    "\n",
    "#二次元正規分布をplot\n",
    "fig = plt.figure(figsize = (15, 15))\n",
    "ax = fig.add_subplot(111, projection='3d')\n",
    "\n",
    "ax.plot_surface(X, Y, Z, rstride=1, cstride=1, cmap=cm.coolwarm)\n",
    "plt.show()"
   ]
  },
  {
   "cell_type": "markdown",
   "metadata": {},
   "source": [
    "### 問題11.1"
   ]
  },
  {
   "cell_type": "code",
   "execution_count": 6,
   "metadata": {},
   "outputs": [
    {
     "data": {
      "text/html": [
       "<div>\n",
       "<style scoped>\n",
       "    .dataframe tbody tr th:only-of-type {\n",
       "        vertical-align: middle;\n",
       "    }\n",
       "\n",
       "    .dataframe tbody tr th {\n",
       "        vertical-align: top;\n",
       "    }\n",
       "\n",
       "    .dataframe thead th {\n",
       "        text-align: right;\n",
       "    }\n",
       "</style>\n",
       "<table border=\"1\" class=\"dataframe\">\n",
       "  <thead>\n",
       "    <tr style=\"text-align: right;\">\n",
       "      <th></th>\n",
       "      <th>x</th>\n",
       "      <th>y</th>\n",
       "      <th>z</th>\n",
       "    </tr>\n",
       "    <tr>\n",
       "      <th>No.</th>\n",
       "      <th></th>\n",
       "      <th></th>\n",
       "      <th></th>\n",
       "    </tr>\n",
       "  </thead>\n",
       "  <tbody>\n",
       "    <tr>\n",
       "      <th>1</th>\n",
       "      <td>178</td>\n",
       "      <td>100</td>\n",
       "      <td>33</td>\n",
       "    </tr>\n",
       "    <tr>\n",
       "      <th>2</th>\n",
       "      <td>185</td>\n",
       "      <td>90</td>\n",
       "      <td>22</td>\n",
       "    </tr>\n",
       "    <tr>\n",
       "      <th>3</th>\n",
       "      <td>190</td>\n",
       "      <td>90</td>\n",
       "      <td>29</td>\n",
       "    </tr>\n",
       "    <tr>\n",
       "      <th>4</th>\n",
       "      <td>175</td>\n",
       "      <td>79</td>\n",
       "      <td>27</td>\n",
       "    </tr>\n",
       "    <tr>\n",
       "      <th>5</th>\n",
       "      <td>185</td>\n",
       "      <td>81</td>\n",
       "      <td>29</td>\n",
       "    </tr>\n",
       "    <tr>\n",
       "      <th>...</th>\n",
       "      <td>...</td>\n",
       "      <td>...</td>\n",
       "      <td>...</td>\n",
       "    </tr>\n",
       "    <tr>\n",
       "      <th>79</th>\n",
       "      <td>180</td>\n",
       "      <td>96</td>\n",
       "      <td>23</td>\n",
       "    </tr>\n",
       "    <tr>\n",
       "      <th>80</th>\n",
       "      <td>175</td>\n",
       "      <td>79</td>\n",
       "      <td>30</td>\n",
       "    </tr>\n",
       "    <tr>\n",
       "      <th>81</th>\n",
       "      <td>185</td>\n",
       "      <td>82</td>\n",
       "      <td>23</td>\n",
       "    </tr>\n",
       "    <tr>\n",
       "      <th>82</th>\n",
       "      <td>180</td>\n",
       "      <td>93</td>\n",
       "      <td>24</td>\n",
       "    </tr>\n",
       "    <tr>\n",
       "      <th>83</th>\n",
       "      <td>184</td>\n",
       "      <td>85</td>\n",
       "      <td>17</td>\n",
       "    </tr>\n",
       "  </tbody>\n",
       "</table>\n",
       "<p>83 rows × 3 columns</p>\n",
       "</div>"
      ],
      "text/plain": [
       "       x    y   z\n",
       "No.              \n",
       "1    178  100  33\n",
       "2    185   90  22\n",
       "3    190   90  29\n",
       "4    175   79  27\n",
       "5    185   81  29\n",
       "..   ...  ...  ..\n",
       "79   180   96  23\n",
       "80   175   79  30\n",
       "81   185   82  23\n",
       "82   180   93  24\n",
       "83   184   85  17\n",
       "\n",
       "[83 rows x 3 columns]"
      ]
     },
     "execution_count": 6,
     "metadata": {},
     "output_type": "execute_result"
    }
   ],
   "source": [
    "df1_1 = pd.read_excel('Table1_1.xlsx', index_col=0)\n",
    "df1_1"
   ]
  },
  {
   "cell_type": "code",
   "execution_count": 10,
   "metadata": {},
   "outputs": [
    {
     "data": {
      "text/html": [
       "<div>\n",
       "<style scoped>\n",
       "    .dataframe tbody tr th:only-of-type {\n",
       "        vertical-align: middle;\n",
       "    }\n",
       "\n",
       "    .dataframe tbody tr th {\n",
       "        vertical-align: top;\n",
       "    }\n",
       "\n",
       "    .dataframe thead th {\n",
       "        text-align: right;\n",
       "    }\n",
       "</style>\n",
       "<table border=\"1\" class=\"dataframe\">\n",
       "  <thead>\n",
       "    <tr style=\"text-align: right;\">\n",
       "      <th></th>\n",
       "      <th>y</th>\n",
       "      <th>z</th>\n",
       "      <th>x</th>\n",
       "    </tr>\n",
       "    <tr>\n",
       "      <th>No.</th>\n",
       "      <th></th>\n",
       "      <th></th>\n",
       "      <th></th>\n",
       "    </tr>\n",
       "  </thead>\n",
       "  <tbody>\n",
       "    <tr>\n",
       "      <th>1</th>\n",
       "      <td>100</td>\n",
       "      <td>33</td>\n",
       "      <td>178</td>\n",
       "    </tr>\n",
       "    <tr>\n",
       "      <th>2</th>\n",
       "      <td>90</td>\n",
       "      <td>22</td>\n",
       "      <td>185</td>\n",
       "    </tr>\n",
       "    <tr>\n",
       "      <th>3</th>\n",
       "      <td>90</td>\n",
       "      <td>29</td>\n",
       "      <td>190</td>\n",
       "    </tr>\n",
       "    <tr>\n",
       "      <th>4</th>\n",
       "      <td>79</td>\n",
       "      <td>27</td>\n",
       "      <td>175</td>\n",
       "    </tr>\n",
       "    <tr>\n",
       "      <th>5</th>\n",
       "      <td>81</td>\n",
       "      <td>29</td>\n",
       "      <td>185</td>\n",
       "    </tr>\n",
       "    <tr>\n",
       "      <th>...</th>\n",
       "      <td>...</td>\n",
       "      <td>...</td>\n",
       "      <td>...</td>\n",
       "    </tr>\n",
       "    <tr>\n",
       "      <th>79</th>\n",
       "      <td>96</td>\n",
       "      <td>23</td>\n",
       "      <td>180</td>\n",
       "    </tr>\n",
       "    <tr>\n",
       "      <th>80</th>\n",
       "      <td>79</td>\n",
       "      <td>30</td>\n",
       "      <td>175</td>\n",
       "    </tr>\n",
       "    <tr>\n",
       "      <th>81</th>\n",
       "      <td>82</td>\n",
       "      <td>23</td>\n",
       "      <td>185</td>\n",
       "    </tr>\n",
       "    <tr>\n",
       "      <th>82</th>\n",
       "      <td>93</td>\n",
       "      <td>24</td>\n",
       "      <td>180</td>\n",
       "    </tr>\n",
       "    <tr>\n",
       "      <th>83</th>\n",
       "      <td>85</td>\n",
       "      <td>17</td>\n",
       "      <td>184</td>\n",
       "    </tr>\n",
       "  </tbody>\n",
       "</table>\n",
       "<p>83 rows × 3 columns</p>\n",
       "</div>"
      ],
      "text/plain": [
       "       y   z    x\n",
       "No.              \n",
       "1    100  33  178\n",
       "2     90  22  185\n",
       "3     90  29  190\n",
       "4     79  27  175\n",
       "5     81  29  185\n",
       "..   ...  ..  ...\n",
       "79    96  23  180\n",
       "80    79  30  175\n",
       "81    82  23  185\n",
       "82    93  24  180\n",
       "83    85  17  184\n",
       "\n",
       "[83 rows x 3 columns]"
      ]
     },
     "execution_count": 10,
     "metadata": {},
     "output_type": "execute_result"
    }
   ],
   "source": [
    "# df1_1['x']\n",
    "\n",
    "df1_1=df1_1.loc[:, ['y', 'z', 'x']]\n",
    "df1_1"
   ]
  },
  {
   "cell_type": "code",
   "execution_count": 11,
   "metadata": {},
   "outputs": [
    {
     "data": {
      "text/plain": [
       "array([[100,  33, 178],\n",
       "       [ 90,  22, 185],\n",
       "       [ 90,  29, 190],\n",
       "       [ 79,  27, 175],\n",
       "       [ 81,  29, 185],\n",
       "       [106,  30, 196],\n",
       "       [100,  31, 188],\n",
       "       [ 87,  23, 186],\n",
       "       [ 84,  19, 188],\n",
       "       [ 77,  31, 182],\n",
       "       [ 82,  19, 180],\n",
       "       [ 82,  30, 176],\n",
       "       [ 85,  25, 186],\n",
       "       [ 88,  31, 178],\n",
       "       [ 77,  26, 177],\n",
       "       [ 77,  35, 180],\n",
       "       [108,  25, 187],\n",
       "       [ 68,  26, 175],\n",
       "       [ 78,  39, 177],\n",
       "       [105,  25, 193],\n",
       "       [ 96,  24, 186],\n",
       "       [ 78,  32, 174],\n",
       "       [ 85,  26, 178],\n",
       "       [ 81,  18, 177],\n",
       "       [ 81,  27, 175],\n",
       "       [ 86,  18, 182],\n",
       "       [ 80,  19, 183],\n",
       "       [ 93,  27, 179],\n",
       "       [ 74,  24, 173],\n",
       "       [ 84,  24, 182],\n",
       "       [ 89,  27, 180],\n",
       "       [ 80,  27, 178],\n",
       "       [ 85,  23, 178],\n",
       "       [ 69,  24, 168],\n",
       "       [ 90,  18, 189],\n",
       "       [ 74,  24, 174],\n",
       "       [ 72,  20, 172],\n",
       "       [ 74,  25, 184],\n",
       "       [ 88,  28, 185],\n",
       "       [ 72,  29, 173],\n",
       "       [ 75,  18, 172],\n",
       "       [ 78,  25, 183],\n",
       "       [ 84,  19, 190],\n",
       "       [ 83,  23, 183],\n",
       "       [ 80,  36, 180],\n",
       "       [ 77,  28, 175],\n",
       "       [ 96,  20, 172],\n",
       "       [ 90,  29, 182],\n",
       "       [ 92,  27, 185],\n",
       "       [ 79,  25, 174],\n",
       "       [ 82,  29, 178],\n",
       "       [ 83,  30, 178],\n",
       "       [ 73,  22, 180],\n",
       "       [ 76,  23, 178],\n",
       "       [ 93,  25, 180],\n",
       "       [ 74,  23, 180],\n",
       "       [ 85,  25, 181],\n",
       "       [ 75,  24, 173],\n",
       "       [ 86,  22, 177],\n",
       "       [ 75,  25, 181],\n",
       "       [ 73,  39, 173],\n",
       "       [ 79,  23, 180],\n",
       "       [ 85,  24, 183],\n",
       "       [ 75,  30, 180],\n",
       "       [ 75,  37, 175],\n",
       "       [ 85,  21, 185],\n",
       "       [ 86,  24, 185],\n",
       "       [ 73,  25, 175],\n",
       "       [ 73,  18, 178],\n",
       "       [ 85,  32, 178],\n",
       "       [ 70,  30, 172],\n",
       "       [ 87,  22, 178],\n",
       "       [ 85,  35, 177],\n",
       "       [ 82,  22, 174],\n",
       "       [ 75,  26, 171],\n",
       "       [ 78,  24, 176],\n",
       "       [ 85,  33, 185],\n",
       "       [ 80,  30, 179],\n",
       "       [ 96,  23, 180],\n",
       "       [ 79,  30, 175],\n",
       "       [ 82,  23, 185],\n",
       "       [ 93,  24, 180],\n",
       "       [ 85,  17, 184]])"
      ]
     },
     "execution_count": 11,
     "metadata": {},
     "output_type": "execute_result"
    }
   ],
   "source": [
    "df1_1_np=df1_1.to_numpy()\n",
    "df1_1_np\n"
   ]
  },
  {
   "cell_type": "code",
   "execution_count": 12,
   "metadata": {},
   "outputs": [
    {
     "data": {
      "text/html": [
       "<div>\n",
       "<style scoped>\n",
       "    .dataframe tbody tr th:only-of-type {\n",
       "        vertical-align: middle;\n",
       "    }\n",
       "\n",
       "    .dataframe tbody tr th {\n",
       "        vertical-align: top;\n",
       "    }\n",
       "\n",
       "    .dataframe thead th {\n",
       "        text-align: right;\n",
       "    }\n",
       "</style>\n",
       "<table border=\"1\" class=\"dataframe\">\n",
       "  <thead>\n",
       "    <tr style=\"text-align: right;\">\n",
       "      <th></th>\n",
       "      <th>y</th>\n",
       "      <th>z</th>\n",
       "      <th>x</th>\n",
       "    </tr>\n",
       "  </thead>\n",
       "  <tbody>\n",
       "    <tr>\n",
       "      <th>y</th>\n",
       "      <td>71.173964</td>\n",
       "      <td>-1.345137</td>\n",
       "      <td>28.614605</td>\n",
       "    </tr>\n",
       "    <tr>\n",
       "      <th>z</th>\n",
       "      <td>-1.345137</td>\n",
       "      <td>24.780782</td>\n",
       "      <td>-3.499412</td>\n",
       "    </tr>\n",
       "    <tr>\n",
       "      <th>x</th>\n",
       "      <td>28.614605</td>\n",
       "      <td>-3.499412</td>\n",
       "      <td>29.171907</td>\n",
       "    </tr>\n",
       "  </tbody>\n",
       "</table>\n",
       "</div>"
      ],
      "text/plain": [
       "           y          z          x\n",
       "y  71.173964  -1.345137  28.614605\n",
       "z  -1.345137  24.780782  -3.499412\n",
       "x  28.614605  -3.499412  29.171907"
      ]
     },
     "execution_count": 12,
     "metadata": {},
     "output_type": "execute_result"
    }
   ],
   "source": [
    "df1_1.cov()"
   ]
  },
  {
   "cell_type": "code",
   "execution_count": 13,
   "metadata": {},
   "outputs": [
    {
     "data": {
      "text/html": [
       "<div>\n",
       "<style scoped>\n",
       "    .dataframe tbody tr th:only-of-type {\n",
       "        vertical-align: middle;\n",
       "    }\n",
       "\n",
       "    .dataframe tbody tr th {\n",
       "        vertical-align: top;\n",
       "    }\n",
       "\n",
       "    .dataframe thead th {\n",
       "        text-align: right;\n",
       "    }\n",
       "</style>\n",
       "<table border=\"1\" class=\"dataframe\">\n",
       "  <thead>\n",
       "    <tr style=\"text-align: right;\">\n",
       "      <th></th>\n",
       "      <th>y</th>\n",
       "      <th>z</th>\n",
       "      <th>x</th>\n",
       "    </tr>\n",
       "  </thead>\n",
       "  <tbody>\n",
       "    <tr>\n",
       "      <th>y</th>\n",
       "      <td>1.000000</td>\n",
       "      <td>-0.032029</td>\n",
       "      <td>0.627978</td>\n",
       "    </tr>\n",
       "    <tr>\n",
       "      <th>z</th>\n",
       "      <td>-0.032029</td>\n",
       "      <td>1.000000</td>\n",
       "      <td>-0.130153</td>\n",
       "    </tr>\n",
       "    <tr>\n",
       "      <th>x</th>\n",
       "      <td>0.627978</td>\n",
       "      <td>-0.130153</td>\n",
       "      <td>1.000000</td>\n",
       "    </tr>\n",
       "  </tbody>\n",
       "</table>\n",
       "</div>"
      ],
      "text/plain": [
       "          y         z         x\n",
       "y  1.000000 -0.032029  0.627978\n",
       "z -0.032029  1.000000 -0.130153\n",
       "x  0.627978 -0.130153  1.000000"
      ]
     },
     "execution_count": 13,
     "metadata": {},
     "output_type": "execute_result"
    }
   ],
   "source": [
    "df1_1.corr()"
   ]
  },
  {
   "cell_type": "code",
   "execution_count": null,
   "metadata": {},
   "outputs": [],
   "source": [
    "df1_2 = pd.read_excel('Table1_2.xlsx', index_col=0)\n",
    "df1_2"
   ]
  },
  {
   "cell_type": "markdown",
   "metadata": {},
   "source": [
    "### 問題11.2"
   ]
  },
  {
   "cell_type": "code",
   "execution_count": null,
   "metadata": {},
   "outputs": [],
   "source": [
    "Data=np.array([[1,0,0,0,0,0],[2,1,0,0,0,0],[2,2,1,0,0,0],[2,2,2,1,0,0],[2,2,2,2,1,0],[2,2,2,2,2,1]])\n",
    "Data\n"
   ]
  },
  {
   "cell_type": "code",
   "execution_count": null,
   "metadata": {},
   "outputs": [],
   "source": [
    "mat1=Data/(6*6)\n",
    "mat1a=Data\n",
    "mat1"
   ]
  },
  {
   "cell_type": "code",
   "execution_count": null,
   "metadata": {},
   "outputs": [],
   "source": [
    "np.arange(1,7)"
   ]
  },
  {
   "cell_type": "code",
   "execution_count": null,
   "metadata": {},
   "outputs": [],
   "source": [
    "np.sum(mat1a,axis=1)"
   ]
  },
  {
   "cell_type": "code",
   "execution_count": null,
   "metadata": {},
   "outputs": [],
   "source": [
    "np.sum(np.sum(mat1a,axis=1)*np.arange(1,7))"
   ]
  },
  {
   "cell_type": "code",
   "execution_count": null,
   "metadata": {},
   "outputs": [],
   "source": []
  },
  {
   "cell_type": "code",
   "execution_count": null,
   "metadata": {},
   "outputs": [],
   "source": [
    "np.sum(mat1a,axis=1)*np.arange(1,7)"
   ]
  },
  {
   "cell_type": "code",
   "execution_count": null,
   "metadata": {},
   "outputs": [],
   "source": [
    "np.sum(np.sum(mat1a,axis=1)*np.arange(1,7))"
   ]
  },
  {
   "cell_type": "code",
   "execution_count": null,
   "metadata": {},
   "outputs": [],
   "source": [
    "np.sum(mat1a,axis=0)*np.arange(1,7)"
   ]
  },
  {
   "cell_type": "code",
   "execution_count": null,
   "metadata": {},
   "outputs": [],
   "source": [
    "np.sum(np.sum(mat1a,axis=0)*np.arange(1,7))"
   ]
  },
  {
   "cell_type": "code",
   "execution_count": null,
   "metadata": {},
   "outputs": [],
   "source": [
    "np.sum(mat1a,axis=1)*(np.arange(1,7))**2"
   ]
  },
  {
   "cell_type": "code",
   "execution_count": null,
   "metadata": {},
   "outputs": [],
   "source": [
    "np.sum(np.sum(mat1a,axis=1)*(np.arange(1,7))**2)"
   ]
  },
  {
   "cell_type": "code",
   "execution_count": null,
   "metadata": {},
   "outputs": [],
   "source": [
    "np.sum(mat1a,axis=0)*(np.arange(1,7))**2"
   ]
  },
  {
   "cell_type": "code",
   "execution_count": null,
   "metadata": {},
   "outputs": [],
   "source": [
    "np.sum(np.sum(mat1a,axis=0)*(np.arange(1,7))**2)"
   ]
  },
  {
   "cell_type": "code",
   "execution_count": null,
   "metadata": {},
   "outputs": [],
   "source": [
    "df1=pd.DataFrame(mat1)\n",
    "df1"
   ]
  },
  {
   "cell_type": "code",
   "execution_count": null,
   "metadata": {},
   "outputs": [],
   "source": [
    "df1.cov()"
   ]
  },
  {
   "cell_type": "code",
   "execution_count": null,
   "metadata": {},
   "outputs": [],
   "source": [
    "np.sum(mat1a,axis=1)"
   ]
  },
  {
   "cell_type": "code",
   "execution_count": null,
   "metadata": {},
   "outputs": [],
   "source": [
    "data=np.array([np.sum(mat1a,axis=1),np.flip(np.sum(mat1a,axis=1))])\n",
    "data"
   ]
  },
  {
   "cell_type": "code",
   "execution_count": null,
   "metadata": {},
   "outputs": [],
   "source": [
    "df1=pd.DataFrame(data.T)\n",
    "df1.cov()"
   ]
  },
  {
   "cell_type": "code",
   "execution_count": null,
   "metadata": {},
   "outputs": [],
   "source": [
    "df1.corr()"
   ]
  },
  {
   "cell_type": "markdown",
   "metadata": {},
   "source": [
    "### 問題*"
   ]
  },
  {
   "cell_type": "code",
   "execution_count": null,
   "metadata": {},
   "outputs": [],
   "source": []
  },
  {
   "cell_type": "markdown",
   "metadata": {},
   "source": [
    "### 問題*"
   ]
  },
  {
   "cell_type": "code",
   "execution_count": null,
   "metadata": {},
   "outputs": [],
   "source": []
  },
  {
   "cell_type": "markdown",
   "metadata": {},
   "source": [
    "### 問題*"
   ]
  },
  {
   "cell_type": "code",
   "execution_count": null,
   "metadata": {},
   "outputs": [],
   "source": []
  },
  {
   "cell_type": "code",
   "execution_count": null,
   "metadata": {},
   "outputs": [],
   "source": []
  },
  {
   "cell_type": "markdown",
   "metadata": {},
   "source": [
    "### 問題*"
   ]
  },
  {
   "cell_type": "code",
   "execution_count": null,
   "metadata": {},
   "outputs": [],
   "source": []
  },
  {
   "cell_type": "markdown",
   "metadata": {},
   "source": [
    "### その他"
   ]
  },
  {
   "cell_type": "code",
   "execution_count": null,
   "metadata": {},
   "outputs": [],
   "source": []
  }
 ],
 "metadata": {
  "colab": {
   "provenance": []
  },
  "kernelspec": {
   "display_name": "Python 3 (ipykernel)",
   "language": "python",
   "name": "python3"
  },
  "language_info": {
   "codemirror_mode": {
    "name": "ipython",
    "version": 3
   },
   "file_extension": ".py",
   "mimetype": "text/x-python",
   "name": "python",
   "nbconvert_exporter": "python",
   "pygments_lexer": "ipython3",
   "version": "3.11.7"
  }
 },
 "nbformat": 4,
 "nbformat_minor": 4
}
